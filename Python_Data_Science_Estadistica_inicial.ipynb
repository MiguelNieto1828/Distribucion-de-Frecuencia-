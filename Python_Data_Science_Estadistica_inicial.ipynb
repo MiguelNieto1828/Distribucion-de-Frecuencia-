{
  "cells": [
    {
      "cell_type": "markdown",
      "metadata": {
        "id": "view-in-github",
        "colab_type": "text"
      },
      "source": [
        "<a href=\"https://colab.research.google.com/github/MiguelNieto1828/Distribucion-de-Frecuencia-/blob/main/Python_Data_Science_Estadistica_inicial.ipynb\" target=\"_parent\"><img src=\"https://colab.research.google.com/assets/colab-badge.svg\" alt=\"Open In Colab\"/></a>"
      ]
    },
    {
      "cell_type": "markdown",
      "metadata": {
        "id": "WvMflodMjQKe"
      },
      "source": [
        "***\n",
        "# <font color=green size=10>ESTADÍSTICAS CON PYTHON</font>\n",
        "***"
      ]
    },
    {
      "cell_type": "markdown",
      "source": [
        "### ¿Por qué estudiar Estadística?\n",
        "\n",
        "La **estadística** puede ser muy importante para una efectiva toma \n",
        "de decisiones. Existe una gran cantidad de valiosa información \n",
        "escondida entre los datos, pero esta información no suele ser fácilmente accesible, la estadística nos brinda los principios fundamentales que nos permiten extraer y entender esa información; tambien nos proporciona las herramientas necesarias para verificar la calidad de nuestros datos y nuestra información.\n",
        "\n",
        "Existen 2 tipos de Estadística:\n",
        "1. Estadística Descriptiva\n",
        "2. Estadística Inferencial"
      ],
      "metadata": {
        "id": "SSLtySxWyIRM"
      }
    },
    {
      "cell_type": "markdown",
      "metadata": {
        "id": "Wrya4suEX7H-"
      },
      "source": [
        "## Conociendo la base de datos"
      ]
    },
    {
      "cell_type": "code",
      "execution_count": 6,
      "metadata": {
        "id": "jj7a21flX7H_",
        "colab": {
          "base_uri": "https://localhost:8080/",
          "height": 206
        },
        "outputId": "b317defa-ea0a-4f80-97a7-820d7c8fa5d7"
      },
      "outputs": [
        {
          "output_type": "execute_result",
          "data": {
            "text/plain": [
              "   CodPostal  Sexo  Edad  Color  Años_Estudio  Renta    Altura\n",
              "0         11     0    23      8            12    800  1.603808\n",
              "1         11     1    23      2            12   1150  1.739790\n",
              "2         11     1    35      8            15    880  1.760444\n",
              "3         11     0    46      2             6   3500  1.783158\n",
              "4         11     1    47      8             9    150  1.690631"
            ],
            "text/html": [
              "\n",
              "  <div id=\"df-8494ef29-3ea6-4862-b371-b2da6805d1a1\">\n",
              "    <div class=\"colab-df-container\">\n",
              "      <div>\n",
              "<style scoped>\n",
              "    .dataframe tbody tr th:only-of-type {\n",
              "        vertical-align: middle;\n",
              "    }\n",
              "\n",
              "    .dataframe tbody tr th {\n",
              "        vertical-align: top;\n",
              "    }\n",
              "\n",
              "    .dataframe thead th {\n",
              "        text-align: right;\n",
              "    }\n",
              "</style>\n",
              "<table border=\"1\" class=\"dataframe\">\n",
              "  <thead>\n",
              "    <tr style=\"text-align: right;\">\n",
              "      <th></th>\n",
              "      <th>CodPostal</th>\n",
              "      <th>Sexo</th>\n",
              "      <th>Edad</th>\n",
              "      <th>Color</th>\n",
              "      <th>Años_Estudio</th>\n",
              "      <th>Renta</th>\n",
              "      <th>Altura</th>\n",
              "    </tr>\n",
              "  </thead>\n",
              "  <tbody>\n",
              "    <tr>\n",
              "      <th>0</th>\n",
              "      <td>11</td>\n",
              "      <td>0</td>\n",
              "      <td>23</td>\n",
              "      <td>8</td>\n",
              "      <td>12</td>\n",
              "      <td>800</td>\n",
              "      <td>1.603808</td>\n",
              "    </tr>\n",
              "    <tr>\n",
              "      <th>1</th>\n",
              "      <td>11</td>\n",
              "      <td>1</td>\n",
              "      <td>23</td>\n",
              "      <td>2</td>\n",
              "      <td>12</td>\n",
              "      <td>1150</td>\n",
              "      <td>1.739790</td>\n",
              "    </tr>\n",
              "    <tr>\n",
              "      <th>2</th>\n",
              "      <td>11</td>\n",
              "      <td>1</td>\n",
              "      <td>35</td>\n",
              "      <td>8</td>\n",
              "      <td>15</td>\n",
              "      <td>880</td>\n",
              "      <td>1.760444</td>\n",
              "    </tr>\n",
              "    <tr>\n",
              "      <th>3</th>\n",
              "      <td>11</td>\n",
              "      <td>0</td>\n",
              "      <td>46</td>\n",
              "      <td>2</td>\n",
              "      <td>6</td>\n",
              "      <td>3500</td>\n",
              "      <td>1.783158</td>\n",
              "    </tr>\n",
              "    <tr>\n",
              "      <th>4</th>\n",
              "      <td>11</td>\n",
              "      <td>1</td>\n",
              "      <td>47</td>\n",
              "      <td>8</td>\n",
              "      <td>9</td>\n",
              "      <td>150</td>\n",
              "      <td>1.690631</td>\n",
              "    </tr>\n",
              "  </tbody>\n",
              "</table>\n",
              "</div>\n",
              "      <button class=\"colab-df-convert\" onclick=\"convertToInteractive('df-8494ef29-3ea6-4862-b371-b2da6805d1a1')\"\n",
              "              title=\"Convert this dataframe to an interactive table.\"\n",
              "              style=\"display:none;\">\n",
              "        \n",
              "  <svg xmlns=\"http://www.w3.org/2000/svg\" height=\"24px\"viewBox=\"0 0 24 24\"\n",
              "       width=\"24px\">\n",
              "    <path d=\"M0 0h24v24H0V0z\" fill=\"none\"/>\n",
              "    <path d=\"M18.56 5.44l.94 2.06.94-2.06 2.06-.94-2.06-.94-.94-2.06-.94 2.06-2.06.94zm-11 1L8.5 8.5l.94-2.06 2.06-.94-2.06-.94L8.5 2.5l-.94 2.06-2.06.94zm10 10l.94 2.06.94-2.06 2.06-.94-2.06-.94-.94-2.06-.94 2.06-2.06.94z\"/><path d=\"M17.41 7.96l-1.37-1.37c-.4-.4-.92-.59-1.43-.59-.52 0-1.04.2-1.43.59L10.3 9.45l-7.72 7.72c-.78.78-.78 2.05 0 2.83L4 21.41c.39.39.9.59 1.41.59.51 0 1.02-.2 1.41-.59l7.78-7.78 2.81-2.81c.8-.78.8-2.07 0-2.86zM5.41 20L4 18.59l7.72-7.72 1.47 1.35L5.41 20z\"/>\n",
              "  </svg>\n",
              "      </button>\n",
              "      \n",
              "  <style>\n",
              "    .colab-df-container {\n",
              "      display:flex;\n",
              "      flex-wrap:wrap;\n",
              "      gap: 12px;\n",
              "    }\n",
              "\n",
              "    .colab-df-convert {\n",
              "      background-color: #E8F0FE;\n",
              "      border: none;\n",
              "      border-radius: 50%;\n",
              "      cursor: pointer;\n",
              "      display: none;\n",
              "      fill: #1967D2;\n",
              "      height: 32px;\n",
              "      padding: 0 0 0 0;\n",
              "      width: 32px;\n",
              "    }\n",
              "\n",
              "    .colab-df-convert:hover {\n",
              "      background-color: #E2EBFA;\n",
              "      box-shadow: 0px 1px 2px rgba(60, 64, 67, 0.3), 0px 1px 3px 1px rgba(60, 64, 67, 0.15);\n",
              "      fill: #174EA6;\n",
              "    }\n",
              "\n",
              "    [theme=dark] .colab-df-convert {\n",
              "      background-color: #3B4455;\n",
              "      fill: #D2E3FC;\n",
              "    }\n",
              "\n",
              "    [theme=dark] .colab-df-convert:hover {\n",
              "      background-color: #434B5C;\n",
              "      box-shadow: 0px 1px 3px 1px rgba(0, 0, 0, 0.15);\n",
              "      filter: drop-shadow(0px 1px 2px rgba(0, 0, 0, 0.3));\n",
              "      fill: #FFFFFF;\n",
              "    }\n",
              "  </style>\n",
              "\n",
              "      <script>\n",
              "        const buttonEl =\n",
              "          document.querySelector('#df-8494ef29-3ea6-4862-b371-b2da6805d1a1 button.colab-df-convert');\n",
              "        buttonEl.style.display =\n",
              "          google.colab.kernel.accessAllowed ? 'block' : 'none';\n",
              "\n",
              "        async function convertToInteractive(key) {\n",
              "          const element = document.querySelector('#df-8494ef29-3ea6-4862-b371-b2da6805d1a1');\n",
              "          const dataTable =\n",
              "            await google.colab.kernel.invokeFunction('convertToInteractive',\n",
              "                                                     [key], {});\n",
              "          if (!dataTable) return;\n",
              "\n",
              "          const docLinkHtml = 'Like what you see? Visit the ' +\n",
              "            '<a target=\"_blank\" href=https://colab.research.google.com/notebooks/data_table.ipynb>data table notebook</a>'\n",
              "            + ' to learn more about interactive tables.';\n",
              "          element.innerHTML = '';\n",
              "          dataTable['output_type'] = 'display_data';\n",
              "          await google.colab.output.renderOutput(dataTable, element);\n",
              "          const docLink = document.createElement('div');\n",
              "          docLink.innerHTML = docLinkHtml;\n",
              "          element.appendChild(docLink);\n",
              "        }\n",
              "      </script>\n",
              "    </div>\n",
              "  </div>\n",
              "  "
            ]
          },
          "metadata": {},
          "execution_count": 6
        }
      ],
      "source": [
        "import pandas as pd\n",
        "datos = pd.read_csv('base.csv')\n",
        "datos.head()"
      ]
    },
    {
      "cell_type": "markdown",
      "metadata": {
        "id": "uIb17Es3jQMP"
      },
      "source": [
        "# <font color=green>1. ESTADÍSTICA DESCRIPTIVA</font>\n",
        "***"
      ]
    },
    {
      "cell_type": "markdown",
      "source": [
        "Se dedica a recolectar, ordenar, analizar y representar a un conjunto de datos, con el fin de describir apropiadamente sus características. Calcula los parámetros estadísticos que describen el conjunto estudiado. Algunas de las herramientas que utiliza son gráficos, distribuciones de frecuencias, medidas de centralización, medidas de posición, medidas de dispersión, entre otras."
      ],
      "metadata": {
        "id": "Xp3eIVh9-GQo"
      }
    },
    {
      "cell_type": "markdown",
      "source": [
        "## <font color=green>1.1 Distribuciones de Frecuencia</font>\n",
        "***"
      ],
      "metadata": {
        "id": "HOxC3G_oIa3D"
      }
    },
    {
      "cell_type": "markdown",
      "source": [
        "### Distribuciones de frecuencia para una variable cualitativa"
      ],
      "metadata": {
        "id": "CVyyJlHOJVP8"
      }
    },
    {
      "cell_type": "code",
      "source": [],
      "metadata": {
        "id": "OikEYfyzIzxi"
      },
      "execution_count": null,
      "outputs": []
    },
    {
      "cell_type": "code",
      "source": [],
      "metadata": {
        "id": "nCNKooHZJtf_"
      },
      "execution_count": null,
      "outputs": []
    },
    {
      "cell_type": "code",
      "source": [],
      "metadata": {
        "id": "LQI83VIWK-zR"
      },
      "execution_count": null,
      "outputs": []
    },
    {
      "cell_type": "markdown",
      "source": [
        "### Distribuciones de frecuencia para más de una variable cualitativa"
      ],
      "metadata": {
        "id": "feXC0DPRLXzf"
      }
    },
    {
      "cell_type": "code",
      "source": [
        "sexo = {0: 'Masculino', \n",
        "        1: 'Femenino'}\n",
        "\n",
        "color = {0: 'Indígena', \n",
        "         2: 'Blanca', \n",
        "         4: 'Negra', \n",
        "         6: 'Amarilla', \n",
        "         8: 'Marrón', \n",
        "         9: 'NA'}"
      ],
      "metadata": {
        "id": "VFGQzAW3LaqU"
      },
      "execution_count": null,
      "outputs": []
    },
    {
      "cell_type": "code",
      "source": [],
      "metadata": {
        "id": "eb_bD3YERaT9"
      },
      "execution_count": null,
      "outputs": []
    },
    {
      "cell_type": "code",
      "source": [],
      "metadata": {
        "id": "PkV8im0CSEM_"
      },
      "execution_count": null,
      "outputs": []
    },
    {
      "cell_type": "code",
      "source": [],
      "metadata": {
        "id": "d2SkyF7YShkK"
      },
      "execution_count": null,
      "outputs": []
    },
    {
      "cell_type": "markdown",
      "source": [
        "### Distribuciones de frecuencia para variables cuantitativas"
      ],
      "metadata": {
        "id": "--07xGlMTBNt"
      }
    },
    {
      "cell_type": "markdown",
      "source": [
        "#### Paso 1 - Definiendo el número de clases con la **Regla de Sturges**"
      ],
      "metadata": {
        "id": "UN5zVyCsT00l"
      }
    },
    {
      "cell_type": "markdown",
      "source": [
        "# $$k = 1 + \\frac {10}{3}\\log_{10}n$$"
      ],
      "metadata": {
        "id": "n92YRI1mUEy9"
      }
    },
    {
      "cell_type": "code",
      "source": [
        "import numpy as np\n",
        "n = datos.shape[0]\n",
        "k = 1 + (10/3) * np.log10(n)\n",
        "k = int(k.round(0))\n",
        "k"
      ],
      "metadata": {
        "id": "SNzpRudSTGEY",
        "colab": {
          "base_uri": "https://localhost:8080/"
        },
        "outputId": "c1243c31-3fd5-403d-c54f-0bdb86d5e941"
      },
      "execution_count": 8,
      "outputs": [
        {
          "output_type": "execute_result",
          "data": {
            "text/plain": [
              "17"
            ]
          },
          "metadata": {},
          "execution_count": 8
        }
      ]
    },
    {
      "cell_type": "markdown",
      "source": [
        "#### Paso 2 - Crear frecuencias"
      ],
      "metadata": {
        "id": "rIJy-NJyUfKv"
      }
    },
    {
      "cell_type": "code",
      "source": [
        "frecuencia = pd.value_counts(\n",
        "    pd.cut(\n",
        "        x = datos.Renta,\n",
        "        bins = k,\n",
        "        include_lowest = True\n",
        "    ),\n",
        "    sort = False\n",
        ")\n",
        "frecuencia"
      ],
      "metadata": {
        "id": "BVhAb2EEUwRB",
        "colab": {
          "base_uri": "https://localhost:8080/"
        },
        "outputId": "2597e061-7fab-4ff3-9987-42684423925f"
      },
      "execution_count": 10,
      "outputs": [
        {
          "output_type": "execute_result",
          "data": {
            "text/plain": [
              "(-200.001, 11764.706]       75594\n",
              "(11764.706, 23529.412]       1022\n",
              "(23529.412, 35294.118]        169\n",
              "(35294.118, 47058.824]         19\n",
              "(47058.824, 58823.529]         16\n",
              "(58823.529, 70588.235]          5\n",
              "(70588.235, 82352.941]          4\n",
              "(82352.941, 94117.647]          1\n",
              "(94117.647, 105882.353]         6\n",
              "(105882.353, 117647.059]        0\n",
              "(117647.059, 129411.765]        1\n",
              "(129411.765, 141176.471]        0\n",
              "(141176.471, 152941.176]        0\n",
              "(152941.176, 164705.882]        0\n",
              "(164705.882, 176470.588]        0\n",
              "(176470.588, 188235.294]        0\n",
              "(188235.294, 200000.0]          3\n",
              "Name: Renta, dtype: int64"
            ]
          },
          "metadata": {},
          "execution_count": 10
        }
      ]
    },
    {
      "cell_type": "code",
      "source": [
        "porcentual = pd.value_counts(\n",
        "    pd.cut(\n",
        "        x = datos.Renta,\n",
        "        bins = k,\n",
        "        include_lowest = True\n",
        "    ),\n",
        "    sort = False,\n",
        "    normalize = True\n",
        ")\n",
        "porcentual"
      ],
      "metadata": {
        "id": "53vNUqwxU6vl",
        "colab": {
          "base_uri": "https://localhost:8080/"
        },
        "outputId": "3910424a-dd15-48ed-9c12-31d1bdce0c85"
      },
      "execution_count": 11,
      "outputs": [
        {
          "output_type": "execute_result",
          "data": {
            "text/plain": [
              "(-200.001, 11764.706]       0.983784\n",
              "(11764.706, 23529.412]      0.013300\n",
              "(23529.412, 35294.118]      0.002199\n",
              "(35294.118, 47058.824]      0.000247\n",
              "(47058.824, 58823.529]      0.000208\n",
              "(58823.529, 70588.235]      0.000065\n",
              "(70588.235, 82352.941]      0.000052\n",
              "(82352.941, 94117.647]      0.000013\n",
              "(94117.647, 105882.353]     0.000078\n",
              "(105882.353, 117647.059]    0.000000\n",
              "(117647.059, 129411.765]    0.000013\n",
              "(129411.765, 141176.471]    0.000000\n",
              "(141176.471, 152941.176]    0.000000\n",
              "(152941.176, 164705.882]    0.000000\n",
              "(164705.882, 176470.588]    0.000000\n",
              "(176470.588, 188235.294]    0.000000\n",
              "(188235.294, 200000.0]      0.000039\n",
              "Name: Renta, dtype: float64"
            ]
          },
          "metadata": {},
          "execution_count": 11
        }
      ]
    },
    {
      "cell_type": "code",
      "source": [
        "dist_frec_cuantitativas = pd.DataFrame({'Frecuencia': frecuencia, 'Porcentual (%)' : porcentual})\n",
        "dist_frec_cuantitativas"
      ],
      "metadata": {
        "id": "AzF4e-lhVKTb",
        "colab": {
          "base_uri": "https://localhost:8080/",
          "height": 582
        },
        "outputId": "4fc1e4c1-b6f5-4184-98ac-5aa0be22a580"
      },
      "execution_count": 12,
      "outputs": [
        {
          "output_type": "execute_result",
          "data": {
            "text/plain": [
              "                          Frecuencia  Porcentual (%)\n",
              "(-200.001, 11764.706]          75594        0.983784\n",
              "(11764.706, 23529.412]          1022        0.013300\n",
              "(23529.412, 35294.118]           169        0.002199\n",
              "(35294.118, 47058.824]            19        0.000247\n",
              "(47058.824, 58823.529]            16        0.000208\n",
              "(58823.529, 70588.235]             5        0.000065\n",
              "(70588.235, 82352.941]             4        0.000052\n",
              "(82352.941, 94117.647]             1        0.000013\n",
              "(94117.647, 105882.353]            6        0.000078\n",
              "(105882.353, 117647.059]           0        0.000000\n",
              "(117647.059, 129411.765]           1        0.000013\n",
              "(129411.765, 141176.471]           0        0.000000\n",
              "(141176.471, 152941.176]           0        0.000000\n",
              "(152941.176, 164705.882]           0        0.000000\n",
              "(164705.882, 176470.588]           0        0.000000\n",
              "(176470.588, 188235.294]           0        0.000000\n",
              "(188235.294, 200000.0]             3        0.000039"
            ],
            "text/html": [
              "\n",
              "  <div id=\"df-adfa339a-cb72-4757-aa55-a66ff462b6ab\">\n",
              "    <div class=\"colab-df-container\">\n",
              "      <div>\n",
              "<style scoped>\n",
              "    .dataframe tbody tr th:only-of-type {\n",
              "        vertical-align: middle;\n",
              "    }\n",
              "\n",
              "    .dataframe tbody tr th {\n",
              "        vertical-align: top;\n",
              "    }\n",
              "\n",
              "    .dataframe thead th {\n",
              "        text-align: right;\n",
              "    }\n",
              "</style>\n",
              "<table border=\"1\" class=\"dataframe\">\n",
              "  <thead>\n",
              "    <tr style=\"text-align: right;\">\n",
              "      <th></th>\n",
              "      <th>Frecuencia</th>\n",
              "      <th>Porcentual (%)</th>\n",
              "    </tr>\n",
              "  </thead>\n",
              "  <tbody>\n",
              "    <tr>\n",
              "      <th>(-200.001, 11764.706]</th>\n",
              "      <td>75594</td>\n",
              "      <td>0.983784</td>\n",
              "    </tr>\n",
              "    <tr>\n",
              "      <th>(11764.706, 23529.412]</th>\n",
              "      <td>1022</td>\n",
              "      <td>0.013300</td>\n",
              "    </tr>\n",
              "    <tr>\n",
              "      <th>(23529.412, 35294.118]</th>\n",
              "      <td>169</td>\n",
              "      <td>0.002199</td>\n",
              "    </tr>\n",
              "    <tr>\n",
              "      <th>(35294.118, 47058.824]</th>\n",
              "      <td>19</td>\n",
              "      <td>0.000247</td>\n",
              "    </tr>\n",
              "    <tr>\n",
              "      <th>(47058.824, 58823.529]</th>\n",
              "      <td>16</td>\n",
              "      <td>0.000208</td>\n",
              "    </tr>\n",
              "    <tr>\n",
              "      <th>(58823.529, 70588.235]</th>\n",
              "      <td>5</td>\n",
              "      <td>0.000065</td>\n",
              "    </tr>\n",
              "    <tr>\n",
              "      <th>(70588.235, 82352.941]</th>\n",
              "      <td>4</td>\n",
              "      <td>0.000052</td>\n",
              "    </tr>\n",
              "    <tr>\n",
              "      <th>(82352.941, 94117.647]</th>\n",
              "      <td>1</td>\n",
              "      <td>0.000013</td>\n",
              "    </tr>\n",
              "    <tr>\n",
              "      <th>(94117.647, 105882.353]</th>\n",
              "      <td>6</td>\n",
              "      <td>0.000078</td>\n",
              "    </tr>\n",
              "    <tr>\n",
              "      <th>(105882.353, 117647.059]</th>\n",
              "      <td>0</td>\n",
              "      <td>0.000000</td>\n",
              "    </tr>\n",
              "    <tr>\n",
              "      <th>(117647.059, 129411.765]</th>\n",
              "      <td>1</td>\n",
              "      <td>0.000013</td>\n",
              "    </tr>\n",
              "    <tr>\n",
              "      <th>(129411.765, 141176.471]</th>\n",
              "      <td>0</td>\n",
              "      <td>0.000000</td>\n",
              "    </tr>\n",
              "    <tr>\n",
              "      <th>(141176.471, 152941.176]</th>\n",
              "      <td>0</td>\n",
              "      <td>0.000000</td>\n",
              "    </tr>\n",
              "    <tr>\n",
              "      <th>(152941.176, 164705.882]</th>\n",
              "      <td>0</td>\n",
              "      <td>0.000000</td>\n",
              "    </tr>\n",
              "    <tr>\n",
              "      <th>(164705.882, 176470.588]</th>\n",
              "      <td>0</td>\n",
              "      <td>0.000000</td>\n",
              "    </tr>\n",
              "    <tr>\n",
              "      <th>(176470.588, 188235.294]</th>\n",
              "      <td>0</td>\n",
              "      <td>0.000000</td>\n",
              "    </tr>\n",
              "    <tr>\n",
              "      <th>(188235.294, 200000.0]</th>\n",
              "      <td>3</td>\n",
              "      <td>0.000039</td>\n",
              "    </tr>\n",
              "  </tbody>\n",
              "</table>\n",
              "</div>\n",
              "      <button class=\"colab-df-convert\" onclick=\"convertToInteractive('df-adfa339a-cb72-4757-aa55-a66ff462b6ab')\"\n",
              "              title=\"Convert this dataframe to an interactive table.\"\n",
              "              style=\"display:none;\">\n",
              "        \n",
              "  <svg xmlns=\"http://www.w3.org/2000/svg\" height=\"24px\"viewBox=\"0 0 24 24\"\n",
              "       width=\"24px\">\n",
              "    <path d=\"M0 0h24v24H0V0z\" fill=\"none\"/>\n",
              "    <path d=\"M18.56 5.44l.94 2.06.94-2.06 2.06-.94-2.06-.94-.94-2.06-.94 2.06-2.06.94zm-11 1L8.5 8.5l.94-2.06 2.06-.94-2.06-.94L8.5 2.5l-.94 2.06-2.06.94zm10 10l.94 2.06.94-2.06 2.06-.94-2.06-.94-.94-2.06-.94 2.06-2.06.94z\"/><path d=\"M17.41 7.96l-1.37-1.37c-.4-.4-.92-.59-1.43-.59-.52 0-1.04.2-1.43.59L10.3 9.45l-7.72 7.72c-.78.78-.78 2.05 0 2.83L4 21.41c.39.39.9.59 1.41.59.51 0 1.02-.2 1.41-.59l7.78-7.78 2.81-2.81c.8-.78.8-2.07 0-2.86zM5.41 20L4 18.59l7.72-7.72 1.47 1.35L5.41 20z\"/>\n",
              "  </svg>\n",
              "      </button>\n",
              "      \n",
              "  <style>\n",
              "    .colab-df-container {\n",
              "      display:flex;\n",
              "      flex-wrap:wrap;\n",
              "      gap: 12px;\n",
              "    }\n",
              "\n",
              "    .colab-df-convert {\n",
              "      background-color: #E8F0FE;\n",
              "      border: none;\n",
              "      border-radius: 50%;\n",
              "      cursor: pointer;\n",
              "      display: none;\n",
              "      fill: #1967D2;\n",
              "      height: 32px;\n",
              "      padding: 0 0 0 0;\n",
              "      width: 32px;\n",
              "    }\n",
              "\n",
              "    .colab-df-convert:hover {\n",
              "      background-color: #E2EBFA;\n",
              "      box-shadow: 0px 1px 2px rgba(60, 64, 67, 0.3), 0px 1px 3px 1px rgba(60, 64, 67, 0.15);\n",
              "      fill: #174EA6;\n",
              "    }\n",
              "\n",
              "    [theme=dark] .colab-df-convert {\n",
              "      background-color: #3B4455;\n",
              "      fill: #D2E3FC;\n",
              "    }\n",
              "\n",
              "    [theme=dark] .colab-df-convert:hover {\n",
              "      background-color: #434B5C;\n",
              "      box-shadow: 0px 1px 3px 1px rgba(0, 0, 0, 0.15);\n",
              "      filter: drop-shadow(0px 1px 2px rgba(0, 0, 0, 0.3));\n",
              "      fill: #FFFFFF;\n",
              "    }\n",
              "  </style>\n",
              "\n",
              "      <script>\n",
              "        const buttonEl =\n",
              "          document.querySelector('#df-adfa339a-cb72-4757-aa55-a66ff462b6ab button.colab-df-convert');\n",
              "        buttonEl.style.display =\n",
              "          google.colab.kernel.accessAllowed ? 'block' : 'none';\n",
              "\n",
              "        async function convertToInteractive(key) {\n",
              "          const element = document.querySelector('#df-adfa339a-cb72-4757-aa55-a66ff462b6ab');\n",
              "          const dataTable =\n",
              "            await google.colab.kernel.invokeFunction('convertToInteractive',\n",
              "                                                     [key], {});\n",
              "          if (!dataTable) return;\n",
              "\n",
              "          const docLinkHtml = 'Like what you see? Visit the ' +\n",
              "            '<a target=\"_blank\" href=https://colab.research.google.com/notebooks/data_table.ipynb>data table notebook</a>'\n",
              "            + ' to learn more about interactive tables.';\n",
              "          element.innerHTML = '';\n",
              "          dataTable['output_type'] = 'display_data';\n",
              "          await google.colab.output.renderOutput(dataTable, element);\n",
              "          const docLink = document.createElement('div');\n",
              "          docLink.innerHTML = docLinkHtml;\n",
              "          element.appendChild(docLink);\n",
              "        }\n",
              "      </script>\n",
              "    </div>\n",
              "  </div>\n",
              "  "
            ]
          },
          "metadata": {},
          "execution_count": 12
        }
      ]
    },
    {
      "cell_type": "markdown",
      "source": [
        "## <font color=green>1.2 Histogramas</font>\n",
        "***\n",
        "El <b>HISTOGRAMA</b> es la representación gráfica de una distribución de frecuencias. Es un gráfico formado por un conjunto de rectángulos colocados uno al lado del otro, donde el área de cada rectángulo es proporcional a la frecuencia de la clase que representa."
      ],
      "metadata": {
        "id": "-yMWyA8NV_ab"
      }
    },
    {
      "cell_type": "code",
      "source": [
        "import seaborn as sns\n",
        "ax = sns.distplot(datos.Altura , kde = False)\n",
        "\n",
        "ax.figure.set_size_inches(12, 6)\n",
        "ax.set_title('Distribucion de Frecuencias - Altura', fontsize= 18)\n",
        "ax.set_xlabel('Metros', fontsize = 14)"
      ],
      "metadata": {
        "id": "Mv8Pfe5vWFcX",
        "colab": {
          "base_uri": "https://localhost:8080/",
          "height": 484
        },
        "outputId": "d71f6171-4acf-417c-c30e-4a6e230228e7"
      },
      "execution_count": 14,
      "outputs": [
        {
          "output_type": "stream",
          "name": "stderr",
          "text": [
            "/usr/local/lib/python3.8/dist-packages/seaborn/distributions.py:2619: FutureWarning: `distplot` is a deprecated function and will be removed in a future version. Please adapt your code to use either `displot` (a figure-level function with similar flexibility) or `histplot` (an axes-level function for histograms).\n",
            "  warnings.warn(msg, FutureWarning)\n"
          ]
        },
        {
          "output_type": "execute_result",
          "data": {
            "text/plain": [
              "Text(0.5, 0, 'Metros')"
            ]
          },
          "metadata": {},
          "execution_count": 14
        },
        {
          "output_type": "display_data",
          "data": {
            "text/plain": [
              "<Figure size 864x432 with 1 Axes>"
            ],
            "image/png": "[encoded data removed]"
          },
          "metadata": {
            "needs_background": "light"
          }
        }
      ]
    },
    {
      "cell_type": "code",
      "source": [
        "dist_frec_cuantitativas['Frecuencia'].plot.bar(width= 1, color = 'blue', alpha=0.2, figsize= (12,6))"
      ],
      "metadata": {
        "id": "nO63oYoKWndt",
        "colab": {
          "base_uri": "https://localhost:8080/",
          "height": 516
        },
        "outputId": "e82f25bb-9057-4965-c6da-ca247316ac42"
      },
      "execution_count": 17,
      "outputs": [
        {
          "output_type": "execute_result",
          "data": {
            "text/plain": [
              "<AxesSubplot:>"
            ]
          },
          "metadata": {},
          "execution_count": 17
        },
        {
          "output_type": "display_data",
          "data": {
            "text/plain": [
              "<Figure size 864x432 with 1 Axes>"
            ],
            "image/png": "[encoded data removed]"
          },
          "metadata": {
            "needs_background": "light"
          }
        }
      ]
    },
    {
      "cell_type": "markdown",
      "metadata": {
        "id": "kcHJFW-YjQMP"
      },
      "source": [
        "## <font color=green>1.3 Media aritmética</font>\n",
        "***\n",
        "\n",
        "Se representa por $\\mu$ cuando se refiere a la población y por $\\bar{X}$ cuando se refiere a la muestra\n",
        "\n",
        "# $$\\mu = \\frac 1n\\sum_{i=1}^{n}X_i$$\n",
        "\n",
        "donde\n",
        "\n",
        "$n$ = número de observaciones (registros)\n",
        "\n",
        "$X_i$ = valor de la i-ésima observación (registro)"
      ]
    },
    {
      "cell_type": "code",
      "execution_count": null,
      "metadata": {
        "id": "QW4JPcBmX7IA"
      },
      "outputs": [],
      "source": []
    },
    {
      "cell_type": "code",
      "execution_count": null,
      "metadata": {
        "id": "LuT8WNy5X7IB"
      },
      "outputs": [],
      "source": []
    },
    {
      "cell_type": "code",
      "execution_count": null,
      "metadata": {
        "id": "BRMZcmMEjQMQ"
      },
      "outputs": [],
      "source": []
    },
    {
      "cell_type": "code",
      "execution_count": null,
      "metadata": {
        "id": "CGgJbsK0HBQc"
      },
      "outputs": [],
      "source": []
    },
    {
      "cell_type": "markdown",
      "metadata": {
        "id": "9geu3UcKjQMS"
      },
      "source": [
        "## <font color=green>1.4 Mediana</font>\n",
        "***\n",
        "\n",
        "Para encontrar la mediana de un conjunto de datos, realizaremos lo siguiente:\n",
        "1. Ordenamos el conjunto de datos;\n",
        "2. Identificamos el número de observaciones (registros) en el conjunto de datos ($n$);\n",
        "3. Identificamos el elemento mediano.\n",
        "\n",
        "> Cuando $n$ es impar:\n",
        "# $$Elemento_{Md} = \\frac{n+1}2$$\n",
        "\n",
        "> Cuando $n$ es par:\n",
        "# $$Elemento_{Md} = \\frac{n}2$$\n",
        "4. Obtenemos la mediana:\n",
        "\n",
        "> Cuando $n$ es impar:\n",
        "\n",
        "\n",
        "# $$Md = X_{Elemento_{Md}}$$\n",
        "\n",
        "> Cuando $n$ es par:\n",
        "\n",
        "\n",
        "# $$Md = \\frac{X_{Elemento_{Md}} + X_{Elemento_{Md}+1}}2$$\n",
        "***"
      ]
    },
    {
      "cell_type": "markdown",
      "metadata": {
        "id": "e0IuYdJFjQMT"
      },
      "source": [
        "### Ejemplo 1 - n impar\n",
        "\n",
        "<img src='https://github.com/ElProfeAlejo/estadisticas_python/raw/main/img_1_4.png' width='40%' style=\"float:left\">"
      ]
    },
    {
      "cell_type": "code",
      "execution_count": null,
      "metadata": {
        "id": "3dXjdRFlX7IH"
      },
      "outputs": [],
      "source": []
    },
    {
      "cell_type": "code",
      "execution_count": null,
      "metadata": {
        "id": "cU91DJ-yjQMV"
      },
      "outputs": [],
      "source": []
    },
    {
      "cell_type": "code",
      "execution_count": null,
      "metadata": {
        "id": "z9bOnYKf1NOd"
      },
      "outputs": [],
      "source": []
    },
    {
      "cell_type": "code",
      "execution_count": null,
      "metadata": {
        "id": "u3nfPEFjjQMW"
      },
      "outputs": [],
      "source": []
    },
    {
      "cell_type": "code",
      "execution_count": null,
      "metadata": {
        "id": "trC12MHxjQMY"
      },
      "outputs": [],
      "source": []
    },
    {
      "cell_type": "markdown",
      "metadata": {
        "id": "hQHyjfLkjQMe"
      },
      "source": [
        "### Ejemplo 2 - n par\n",
        "\n",
        "<img src='https://github.com/ElProfeAlejo/estadisticas_python/raw/main/img_1_4_2.png' width='50%' style=\"float:left\">"
      ]
    },
    {
      "cell_type": "code",
      "execution_count": null,
      "metadata": {
        "id": "Jkx1WZenjQMe"
      },
      "outputs": [],
      "source": []
    },
    {
      "cell_type": "code",
      "execution_count": null,
      "metadata": {
        "id": "D1LUpvZkYsHq"
      },
      "outputs": [],
      "source": []
    },
    {
      "cell_type": "code",
      "execution_count": null,
      "metadata": {
        "id": "PuiScCf0-vh9"
      },
      "outputs": [],
      "source": []
    },
    {
      "cell_type": "code",
      "execution_count": null,
      "metadata": {
        "id": "6wB1UztBjQMf"
      },
      "outputs": [],
      "source": []
    },
    {
      "cell_type": "code",
      "execution_count": null,
      "metadata": {
        "id": "tEBVXl7CjQMh"
      },
      "outputs": [],
      "source": []
    },
    {
      "cell_type": "markdown",
      "metadata": {
        "id": "nK27TxrkjQMl"
      },
      "source": [
        "### Obteniendo la mediana en nuestro dataset"
      ]
    },
    {
      "cell_type": "code",
      "execution_count": null,
      "metadata": {
        "id": "dJznpnjUjQMl"
      },
      "outputs": [],
      "source": []
    },
    {
      "cell_type": "code",
      "execution_count": null,
      "metadata": {
        "id": "W4a5PVYdjQMm"
      },
      "outputs": [],
      "source": []
    },
    {
      "cell_type": "markdown",
      "metadata": {
        "id": "CmCu6BXQjQMo"
      },
      "source": [
        "## <font color=green>1.5 Moda</font>\n",
        "***\n",
        "\n",
        "La moda se puede definir como el valor más frecuente en un conjunto de datos. La moda se usa a menudo para datos cualitativos."
      ]
    },
    {
      "cell_type": "code",
      "execution_count": null,
      "metadata": {
        "id": "BHibMzw8X7Id"
      },
      "outputs": [],
      "source": []
    },
    {
      "cell_type": "code",
      "execution_count": null,
      "metadata": {
        "id": "xICDpQguX7Ik"
      },
      "outputs": [],
      "source": []
    },
    {
      "cell_type": "markdown",
      "metadata": {
        "id": "YwhBwz-JjQMr"
      },
      "source": [
        "### Obteniendo la moda en nuestro dataset"
      ]
    },
    {
      "cell_type": "code",
      "execution_count": null,
      "metadata": {
        "id": "mC8vvYk-jQMr"
      },
      "outputs": [],
      "source": []
    },
    {
      "cell_type": "code",
      "execution_count": null,
      "metadata": {
        "id": "Sdosy_vSX7Iw"
      },
      "outputs": [],
      "source": []
    },
    {
      "cell_type": "markdown",
      "metadata": {
        "id": "f4XrApNxjQNE"
      },
      "source": [
        "## <font color=green>1.6 Cuartiles, deciles y percentiles</font>\n",
        "***\n",
        "\n",
        "Hay una serie de medidas de posición similares en diseño a la mediana, aunque no son medidas de tendencia central. Como es sabido, la mediana divide la distribución en dos partes iguales en función del número de elementos de cada parte. Los cuartiles, por su parte, permiten dividir la distribución en cuatro partes iguales en función del número de elementos en cada una; deciles en diez partes y percentiles en cien partes iguales."
      ]
    },
    {
      "cell_type": "code",
      "execution_count": null,
      "metadata": {
        "id": "VmbdUO-ujQNE"
      },
      "outputs": [],
      "source": []
    },
    {
      "cell_type": "code",
      "execution_count": null,
      "metadata": {
        "id": "EpRKboV5jQNG"
      },
      "outputs": [],
      "source": []
    },
    {
      "cell_type": "code",
      "execution_count": null,
      "metadata": {
        "id": "gyiJDAMbjQNF"
      },
      "outputs": [],
      "source": []
    },
    {
      "cell_type": "markdown",
      "metadata": {
        "id": "6gIeZO_CjQNJ"
      },
      "source": [
        "## <font color=green>1.7 Box-plot</font>\n",
        "***\n",
        "\n",
        "El Box-plot da una idea de posición, dispersión, asimetría, colas y valores atípicos (outliers). La posición central viene dada por la mediana y la dispersión por $IIQ$. Las posiciones relativas de $Q1$, $Mediana$ y $Q3$ dan una idea de la simetría de la distribución. Las longitudes de cola están dadas por las líneas que van desde el rectángulo hasta los valores remotos y los valores atípicos."
      ]
    },
    {
      "cell_type": "markdown",
      "metadata": {
        "id": "VeiTE_gvjQNK"
      },
      "source": [
        "<img src='https://github.com/ElProfeAlejo/estadisticas_python/raw/main/img_1_7.png' width='65%'>"
      ]
    },
    {
      "cell_type": "code",
      "execution_count": null,
      "metadata": {
        "id": "pBY2EWkzjQNK"
      },
      "outputs": [],
      "source": []
    },
    {
      "cell_type": "code",
      "execution_count": null,
      "metadata": {
        "id": "AEhX7-ggsuiY"
      },
      "outputs": [],
      "source": []
    },
    {
      "cell_type": "code",
      "execution_count": null,
      "metadata": {
        "id": "2ZPrRov1suSF"
      },
      "outputs": [],
      "source": []
    },
    {
      "cell_type": "markdown",
      "metadata": {
        "id": "D6xVxAQ7jQNO"
      },
      "source": [
        "## <font color=green>1.8 Desviación Media Absoluta</font>\n",
        "***\n",
        "\n",
        "\n",
        "# $$DM = \\frac 1n\\sum_{i=1}^{n}|X_i-\\bar{X}|$$\n"
      ]
    },
    {
      "cell_type": "code",
      "execution_count": null,
      "metadata": {
        "id": "0sL31blV7nz3"
      },
      "outputs": [],
      "source": []
    },
    {
      "cell_type": "code",
      "execution_count": null,
      "metadata": {
        "id": "f3pAri4G7nc4"
      },
      "outputs": [],
      "source": []
    },
    {
      "cell_type": "code",
      "execution_count": null,
      "metadata": {
        "id": "8_Q2tOTmjQNO"
      },
      "outputs": [],
      "source": []
    },
    {
      "cell_type": "code",
      "execution_count": null,
      "metadata": {
        "id": "RWo0AhBEjQNP"
      },
      "outputs": [],
      "source": []
    },
    {
      "cell_type": "code",
      "execution_count": null,
      "metadata": {
        "id": "OiWDTw0ljQNQ"
      },
      "outputs": [],
      "source": []
    },
    {
      "cell_type": "markdown",
      "metadata": {
        "id": "jSKfnKwEjQNW"
      },
      "source": [
        "## <font color=green>1.9 Varianza</font>\n",
        "***"
      ]
    },
    {
      "cell_type": "markdown",
      "metadata": {
        "id": "tHD3yNqzjQNW"
      },
      "source": [
        "### Varianza\n",
        "\n",
        "La varianza se construye a partir de las diferencias entre cada observación y la media de los datos, es decir, la desviación alrededor de la media. Al calcular la varianza, las desviaciones alrededor de la media se elevan al cuadrado."
      ]
    },
    {
      "cell_type": "markdown",
      "metadata": {
        "id": "jV5mQT_djQNX"
      },
      "source": [
        "### Varianza muestral\n",
        "\n",
        "# $$S^2 = \\frac 1{n-1}\\sum_{i=1}^{n}(X_i-\\bar{X})^2$$"
      ]
    },
    {
      "cell_type": "code",
      "execution_count": null,
      "metadata": {
        "id": "4tlbCQeujQNZ"
      },
      "outputs": [],
      "source": []
    },
    {
      "cell_type": "code",
      "execution_count": null,
      "metadata": {
        "id": "oCcAfoIOjQNa"
      },
      "outputs": [],
      "source": []
    },
    {
      "cell_type": "code",
      "execution_count": null,
      "metadata": {
        "id": "EyrfPHLtjQNb"
      },
      "outputs": [],
      "source": []
    },
    {
      "cell_type": "markdown",
      "metadata": {
        "id": "wQl_CsytjQNg"
      },
      "source": [
        "## <font color=green>1.10 Desviación estandar</font>\n",
        "***\n",
        "\n",
        "Una de las limitaciones de la varianza es que proporciona medidas en cuadrados de las unidades originales; la varianza de las medidas de longitud, por ejemplo, está en unidades de área. Por tanto, el hecho de que las unidades sean diferentes dificulta la comparación de la dispersión con las variables que la definen. Una forma de eliminar esta dificultad es considerar su raíz cuadrada."
      ]
    },
    {
      "cell_type": "markdown",
      "metadata": {
        "id": "D3J4MvMpjQNg"
      },
      "source": [
        "### Desviación estandar muestral\n",
        "\n",
        "# $$S = \\sqrt{\\frac 1{n-1}\\sum_{i=1}^{n}(X_i-\\bar{X})^2} \\Longrightarrow S = \\sqrt{S^2}$$"
      ]
    },
    {
      "cell_type": "code",
      "execution_count": null,
      "metadata": {
        "id": "2di6iLFaSPda"
      },
      "outputs": [],
      "source": []
    },
    {
      "cell_type": "code",
      "execution_count": null,
      "metadata": {
        "id": "BMTx9yKHSPON"
      },
      "outputs": [],
      "source": []
    },
    {
      "cell_type": "code",
      "execution_count": null,
      "metadata": {
        "id": "_PeQtqbdjQNh"
      },
      "outputs": [],
      "source": []
    },
    {
      "cell_type": "code",
      "execution_count": null,
      "metadata": {
        "id": "5LYOKy25jQNi"
      },
      "outputs": [],
      "source": []
    },
    {
      "cell_type": "markdown",
      "source": [
        "# <font color=green>2. ESTADÍSTICA INFERENCIAL</font>\n",
        "***"
      ],
      "metadata": {
        "id": "R_q4xMNzmvYp"
      }
    },
    {
      "cell_type": "markdown",
      "source": [
        "Se dedica a estudiar cómo sacar conclusiones generales para toda la población a partir del estudio de una muestra, y el grado de fiabilidad o significación de los resultados obtenidos. Sus principales herramientas son el muestreo, la estimación de parámetros y el contraste de hipótesis."
      ],
      "metadata": {
        "id": "h1Hb2mrvm05f"
      }
    },
    {
      "cell_type": "markdown",
      "source": [
        "## <font color=green>2.1 Distribución Binomial</font>\n",
        "***"
      ],
      "metadata": {
        "id": "SrOijSElwFVK"
      }
    },
    {
      "cell_type": "markdown",
      "source": [
        "Un evento **binomial** se caracteriza por la posibilidad de ocurrencia de solo dos categorías. Estas categorías juntas representan todo el espacio muestral, y además son mutuamente excluyentes, es decir, la ocurrencia de una implica la no ocurrencia de la otra.\n",
        "\n",
        "En el análisis estadístico, el uso más común de la distribución binomial es para resolver problemas de situaciones de **éxito** y **fracaso**."
      ],
      "metadata": {
        "id": "-Agx8ph4w4wP"
      }
    },
    {
      "cell_type": "markdown",
      "source": [
        "# $$P(k)=\\binom{n}{k} p^k q^{n-k}$$\n",
        "\n",
        "Donde:\n",
        "\n",
        "$p$ = probabilidad de éxito\n",
        "\n",
        "$q = (1 - p)$ = probabilidad de fracaso\n",
        "\n",
        "$n$ = número de eventos estudiados\n",
        "\n",
        "$k$ = número de eventos deseados que tengan éxito"
      ],
      "metadata": {
        "id": "wxIkLw9kxLKt"
      }
    },
    {
      "cell_type": "markdown",
      "source": [
        "### Combinaciones\n",
        "\n",
        "Es importante resaltar que la expresión entre paréntesis no es una expresión matricial, sino que es el resultado de una combinación sin repetición. Este se obtiene con la siguiente fórmula:\n",
        "\n",
        "# $$C_{k}^{n} = \\binom{n}{k} = \\frac{n!}{k!(n - k)!}$$\n",
        "\n",
        "Donde\n",
        "\n",
        "## $$n! = n\\times(n-1)\\times(n-2)\\times...\\times(2)\\times(1)$$\n",
        "## $$k! = k\\times(k-1)\\times(k-2)\\times...\\times(2)\\times(1)$$\n",
        "\n",
        "Por definición:\n",
        "\n",
        "## $$0! = 1$$"
      ],
      "metadata": {
        "id": "R8y5UhW-yV1H"
      }
    },
    {
      "cell_type": "markdown",
      "source": [
        "### Importando bibliotecas\n",
        "https://docs.scipy.org/doc/scipy/reference/generated/scipy.special.comb.html"
      ],
      "metadata": {
        "id": "1Z6fkNKuzE6r"
      }
    },
    {
      "cell_type": "code",
      "source": [],
      "metadata": {
        "id": "kFtz2PxOnIY5"
      },
      "execution_count": null,
      "outputs": []
    },
    {
      "cell_type": "markdown",
      "source": [
        "## <font color='blue'>Ejemplo: Mega Sorteo</font>"
      ],
      "metadata": {
        "id": "7i3_o-77zT17"
      }
    },
    {
      "cell_type": "markdown",
      "source": [
        "En un billete de lotería Mega Sorteo tenemos un total de **60 números** a elegir donde la apuesta mínima es de **seis números**. Tú que tienes curiosidad decides calcular la probabilidad de ganar el Mega Sorteo con solo **un juego**. Para ello necesitamos saber cuántas **combinaciones de seis números se pueden formar con los 60 números disponibles**.\n",
        "\n",
        "### $$C_{6}^{60} = \\binom{60}{6} = \\frac{60!}{6!(60 - 6)!}$$"
      ],
      "metadata": {
        "id": "xzFXgJP9zWo0"
      }
    },
    {
      "cell_type": "code",
      "source": [],
      "metadata": {
        "id": "YqW9e_iRz4ac"
      },
      "execution_count": null,
      "outputs": []
    },
    {
      "cell_type": "code",
      "source": [],
      "metadata": {
        "id": "rWCrOpPNz4pP"
      },
      "execution_count": null,
      "outputs": []
    },
    {
      "cell_type": "markdown",
      "source": [
        "## <font color='blue'>Ejemplo: Concurso para Data Scientist</font>"
      ],
      "metadata": {
        "id": "B2NvF1oK1r-8"
      }
    },
    {
      "cell_type": "markdown",
      "source": [
        "En un concurso para cubrir una vacante de científico de datos tenemos un total de **10 preguntas de opción múltiple** con **3 alternativas posibles** en cada pregunta. **Cada pregunta tiene el mismo valor.** Supongamos que un candidato decide aventurarse sin haber estudiado nada en absoluto. Decide tomar la prueba con los ojos vendados y adivinar todas las respuestas. Suponiendo que la prueba **vale 10 puntos y el puntaje de corte es 5**, obtenga la probabilidad de que este candidato **responda correctamente 5 preguntas** y también la probabilidad de que este candidato **pase a la siguiente etapa del proceso de selección**."
      ],
      "metadata": {
        "id": "XgpK-xwS1wWY"
      }
    },
    {
      "cell_type": "markdown",
      "source": [
        "### ¿Cual es la cantidad de preguntas o ensayos ($n$)?"
      ],
      "metadata": {
        "id": "LJ2Eki7Q2gN9"
      }
    },
    {
      "cell_type": "code",
      "source": [],
      "metadata": {
        "id": "QIQ2UPj61vS7"
      },
      "execution_count": null,
      "outputs": []
    },
    {
      "cell_type": "markdown",
      "source": [
        "### ¿Cuál es la probabilidad de éxito ($p$)?"
      ],
      "metadata": {
        "id": "y3nrQgGD2zxD"
      }
    },
    {
      "cell_type": "code",
      "source": [],
      "metadata": {
        "id": "iK3UkPjW20dF"
      },
      "execution_count": null,
      "outputs": []
    },
    {
      "cell_type": "markdown",
      "source": [
        "### ¿Cuál es la probabilidad de fracaso ($q$)?"
      ],
      "metadata": {
        "id": "3Cs3UmNf3AJw"
      }
    },
    {
      "cell_type": "code",
      "source": [],
      "metadata": {
        "id": "LVTV79KF3BlK"
      },
      "execution_count": null,
      "outputs": []
    },
    {
      "cell_type": "markdown",
      "source": [
        "### ¿Cuál es el número de eventos que se desea tener éxito ($k$)?"
      ],
      "metadata": {
        "id": "iOJPN-9V3KhT"
      }
    },
    {
      "cell_type": "code",
      "source": [],
      "metadata": {
        "id": "ETVLRFDw3TKs"
      },
      "execution_count": null,
      "outputs": []
    },
    {
      "cell_type": "markdown",
      "source": [
        "### Solución 1"
      ],
      "metadata": {
        "id": "L3anC1tm3Yob"
      }
    },
    {
      "cell_type": "code",
      "source": [],
      "metadata": {
        "id": "lOCQbM8D3ZOO"
      },
      "execution_count": null,
      "outputs": []
    },
    {
      "cell_type": "markdown",
      "source": [
        "### Solución 2"
      ],
      "metadata": {
        "id": "yPV1zeXd4C7y"
      }
    },
    {
      "cell_type": "markdown",
      "source": [
        "### Importando bibliotecas\n",
        "https://docs.scipy.org/doc/scipy/reference/generated/scipy.stats.binom.html"
      ],
      "metadata": {
        "id": "fZdXMSlD4JmN"
      }
    },
    {
      "cell_type": "code",
      "source": [],
      "metadata": {
        "id": "YINCPfc64D0j"
      },
      "execution_count": null,
      "outputs": []
    },
    {
      "cell_type": "code",
      "source": [],
      "metadata": {
        "id": "Tz_CgAt44PLZ"
      },
      "execution_count": null,
      "outputs": []
    },
    {
      "cell_type": "markdown",
      "source": [
        "### Obtener la probabilidad de que el candidato pase la prueba"
      ],
      "metadata": {
        "id": "YKAKBgmS4WWh"
      }
    },
    {
      "cell_type": "markdown",
      "source": [
        "### $$P(Aprobado \\geq 5) = P(5) + P(6) + P(7) + P(8) + P(9) + P10)$$"
      ],
      "metadata": {
        "id": "pNWwXz9T4s6S"
      }
    },
    {
      "cell_type": "code",
      "source": [],
      "metadata": {
        "id": "Ti8mMS9I4o4O"
      },
      "execution_count": null,
      "outputs": []
    },
    {
      "cell_type": "code",
      "source": [],
      "metadata": {
        "id": "2xbBz6EX427e"
      },
      "execution_count": null,
      "outputs": []
    },
    {
      "cell_type": "markdown",
      "source": [
        "## <font color='blue'>Ejemplo: Yincana</font>"
      ],
      "metadata": {
        "id": "XAYAFj5m5geo"
      }
    },
    {
      "cell_type": "markdown",
      "source": [
        "En un pueblo se organiza una yincana todos los años para recaudar fondos para el hospital de la ciudad. Se sabe que la **proporción de mujeres participantes en la yincana es del 60%**. **El número total de equipos, con 12 integrantes, inscritos para la yincana de este año es de 30**. Con la información anterior responde: ¿Cuántos equipos deben estar formados por **8 mujeres**?"
      ],
      "metadata": {
        "id": "p_gdfVlr5iMw"
      }
    },
    {
      "cell_type": "markdown",
      "source": [
        "### Solución"
      ],
      "metadata": {
        "id": "E55wqyjv7sst"
      }
    },
    {
      "cell_type": "code",
      "source": [],
      "metadata": {
        "id": "CBI6s2ex7qhH"
      },
      "execution_count": null,
      "outputs": []
    },
    {
      "cell_type": "code",
      "source": [],
      "metadata": {
        "id": "VzYtWaDz776J"
      },
      "execution_count": null,
      "outputs": []
    },
    {
      "cell_type": "code",
      "source": [],
      "metadata": {
        "id": "uPyfYzqe7-LO"
      },
      "execution_count": null,
      "outputs": []
    },
    {
      "cell_type": "code",
      "source": [],
      "metadata": {
        "id": "RuTGHs6r-WiR"
      },
      "execution_count": null,
      "outputs": []
    },
    {
      "cell_type": "markdown",
      "source": [
        "### Media de la distribución binomial"
      ],
      "metadata": {
        "id": "KnahyrmA-gTw"
      }
    },
    {
      "cell_type": "markdown",
      "source": [
        "El valor esperado o la media de una distribución binomial es igual al número de experimentos realizados multiplicado por la posibilidad de que ocurra el evento.\n",
        "\n",
        "# $$\\mu = n \\times p$$"
      ],
      "metadata": {
        "id": "5SWtLDM7-kZN"
      }
    },
    {
      "cell_type": "code",
      "source": [],
      "metadata": {
        "id": "3rpguoxA-w-q"
      },
      "execution_count": null,
      "outputs": []
    },
    {
      "cell_type": "markdown",
      "source": [
        "## <font color=green>2.2 Distribución Poisson</font>\n",
        "***"
      ],
      "metadata": {
        "id": "6cnb8HYz_N6w"
      }
    },
    {
      "cell_type": "markdown",
      "source": [
        "Se utiliza para describir el número de ocurrencias en un tiempo o espacio específico. Los eventos se caracterizan por la posibilidad de contar los éxitos, pero la imposibilidad de contar los fracasos.\n",
        "\n",
        "Como ejemplos de procesos donde podemos aplicar la distribución de Poisson tenemos la determinación de la cantidad de clientes que ingresan a una tienda a una hora determinada, la cantidad de autos que llegan a un drive-thru de una cafetería a la hora del almuerzo, la determinación de el número de accidentes registrados en un tramo de carretera, etc."
      ],
      "metadata": {
        "id": "al9AcGw__P0G"
      }
    },
    {
      "cell_type": "markdown",
      "source": [
        "# $$P(k) = \\frac{e^{-\\mu}(\\mu)^k}{k!}$$\n",
        "\n",
        "Donde:\n",
        "\n",
        "$e$ = constante cuyo valor aproximado es 2.718281828459045\n",
        "\n",
        "$\\mu$ = representa el número promedio de ocurrencias en un intervalo de tiempo o espacio determinado\n",
        "\n",
        "$k$ = número de éxitos en el rango deseado"
      ],
      "metadata": {
        "id": "T8pwHPvOC4YK"
      }
    },
    {
      "cell_type": "code",
      "source": [],
      "metadata": {
        "id": "Zz4boaB9DJe8"
      },
      "execution_count": null,
      "outputs": []
    },
    {
      "cell_type": "markdown",
      "source": [
        "## <font color='blue'>Ejemplo: Delivery</font>"
      ],
      "metadata": {
        "id": "Pc8Adco7HN0f"
      }
    },
    {
      "cell_type": "markdown",
      "source": [
        "Un restaurante recibe una media de **20 pedidos por hora**. ¿Cuál es la probabilidad de que, en un momento determinado elegido al azar, el restaurante reciba **15 pedidos**?"
      ],
      "metadata": {
        "id": "KG6lbgzsHTxf"
      }
    },
    {
      "cell_type": "markdown",
      "source": [
        "### ¿Cuál es el promedio de visitas por hora ($\\mu$)?"
      ],
      "metadata": {
        "id": "dHRELL2aHdq0"
      }
    },
    {
      "cell_type": "code",
      "source": [],
      "metadata": {
        "id": "WKO0u7gJFiZJ"
      },
      "execution_count": null,
      "outputs": []
    },
    {
      "cell_type": "markdown",
      "source": [
        "### ¿Cuántas ocurrencias queremos obtener en el período ($k$)?"
      ],
      "metadata": {
        "id": "wSxAZg2nHmZK"
      }
    },
    {
      "cell_type": "code",
      "source": [],
      "metadata": {
        "id": "ScvHIZmtHnBw"
      },
      "execution_count": null,
      "outputs": []
    },
    {
      "cell_type": "markdown",
      "source": [
        "### Solución 1"
      ],
      "metadata": {
        "id": "S1svy6hyHu3m"
      }
    },
    {
      "cell_type": "code",
      "source": [],
      "metadata": {
        "id": "0glURNhyHvXX"
      },
      "execution_count": null,
      "outputs": []
    },
    {
      "cell_type": "markdown",
      "source": [
        "### Importando bibliotecas"
      ],
      "metadata": {
        "id": "VOsWz9hOIMQm"
      }
    },
    {
      "cell_type": "markdown",
      "source": [
        "https://docs.scipy.org/doc/scipy/reference/generated/scipy.stats.poisson.html"
      ],
      "metadata": {
        "id": "kGYHXNtjIMxJ"
      }
    },
    {
      "cell_type": "markdown",
      "source": [
        "### Solución 2"
      ],
      "metadata": {
        "id": "NwInTkqUIUJR"
      }
    },
    {
      "cell_type": "code",
      "source": [],
      "metadata": {
        "id": "CNvTOI9WIVFM"
      },
      "execution_count": null,
      "outputs": []
    },
    {
      "cell_type": "markdown",
      "source": [
        "## <font color=green>2.3 Distribución Normal</font>\n",
        "***"
      ],
      "metadata": {
        "id": "pSc6MBfsLcqU"
      }
    },
    {
      "cell_type": "markdown",
      "source": [
        "La distribución normal es una de las más utilizadas en estadística. Es una distribución continua, donde la distribución de frecuencias de una variable cuantitativa tiene forma de campana y es simétrica con respecto a su media."
      ],
      "metadata": {
        "id": "mHE0MGTnLe27"
      }
    },
    {
      "cell_type": "markdown",
      "source": [
        "# $$f(x) = \\frac{1}{\\sqrt{2\\pi\\sigma}}e^{-\\frac{1}{2}\\left(\\frac{x-\\mu}{\\sigma}\\right)^2}$$\n",
        "\n",
        "Donde:\n",
        "\n",
        "$x$ = variable normal\n",
        "\n",
        "$\\sigma$ = desviación estándar\n",
        "\n",
        "$\\mu$ = media o promedio"
      ],
      "metadata": {
        "id": "OSxItKjrLkMF"
      }
    },
    {
      "cell_type": "markdown",
      "source": [
        "La probabilidad se obtiene a partir del área bajo la curva, delimitada por los límites inferior y superior especificados. Un ejemplo se puede ver en la siguiente figura."
      ],
      "metadata": {
        "id": "cMHvh7O1Nnsu"
      }
    },
    {
      "cell_type": "markdown",
      "source": [
        "![alt text](https://github.com/ElProfeAlejo/estadisticas_python/raw/main/img_2_3.png)"
      ],
      "metadata": {
        "id": "QTHFE1XbPtEu"
      }
    },
    {
      "cell_type": "markdown",
      "source": [
        "Para obtener el área anterior, basta calcular la integral de la función para los intervalos dados. De acuerdo con la siguiente ecuación:"
      ],
      "metadata": {
        "id": "r0ln64w6P5n1"
      }
    },
    {
      "cell_type": "markdown",
      "source": [
        "# $$P(L_i<x<L_s) = \\int_{L_i}^{L_s}\\frac{1}{\\sqrt{2\\pi\\sigma}}e^{-\\frac{1}{2}\\left(\\frac{x-\\mu}{\\sigma}\\right)^2}$$\n",
        "\n",
        "Donde:\n",
        "\n",
        "$x$ = variable normal\n",
        "\n",
        "$\\sigma$ = desviación estándar\n",
        "\n",
        "$\\mu$ = media o promedio\n",
        "\n",
        "$L_i$ = límite inferior\n",
        "\n",
        "$L_s$ = límite superior"
      ],
      "metadata": {
        "id": "RggsAnMNP_Xo"
      }
    },
    {
      "cell_type": "markdown",
      "source": [
        "### Tablas estandarizadas (Tabla Z)"
      ],
      "metadata": {
        "id": "xPI_wxgnUUdT"
      }
    },
    {
      "cell_type": "markdown",
      "source": [
        "Las tablas estandarizadas se crearon para facilitar la obtención de los valores de las áreas bajo la curva normal y eliminar la necesidad de resolver integrales definidas.\n",
        "\n",
        "Para consultar los valores en una tabla estandarizada, solo necesitamos transformar nuestra variable en una variable estandarizada $Z$.\n",
        "\n",
        "Esta variable $Z$ representa el alejamiento en desviaciones estándares de un valor de la variable original en relación a la media."
      ],
      "metadata": {
        "id": "ZBFldy_9UeZf"
      }
    },
    {
      "cell_type": "markdown",
      "source": [
        "# $$Z = \\frac{x-\\mu}{\\sigma}$$\n",
        "\n",
        "Donde:\n",
        "\n",
        "$x$ = variable normal con media $\\mu$ y desviación estándar $\\sigma$\n",
        "\n",
        "$\\sigma$ = desviación estándar\n",
        "\n",
        "$\\mu$ = media o promedio"
      ],
      "metadata": {
        "id": "f80x0p0QU5s4"
      }
    },
    {
      "cell_type": "markdown",
      "source": [
        "### Construyendo una tabla normal estandarizada\n",
        "https://docs.scipy.org/doc/scipy/reference/generated/scipy.stats.norm.html"
      ],
      "metadata": {
        "id": "Y-nth33EVKiv"
      }
    },
    {
      "cell_type": "code",
      "source": [
        "import pandas as pd\n",
        "import numpy as np\n",
        "from scipy.stats import norm\n",
        "\n",
        "tabla_estandarizada = pd.DataFrame(\n",
        "    [], \n",
        "    index=[\"{0:0.2f}\".format(i / 100) for i in range(0, 400, 10)],\n",
        "    columns = [\"{0:0.2f}\".format(i / 100) for i in range(0, 10)])\n",
        "\n",
        "for index in tabla_estandarizada.index:\n",
        "    for column in tabla_estandarizada.columns:\n",
        "        Z = np.round(float(index) + float(column), 2)\n",
        "        tabla_estandarizada.loc[index, column] = \"{0:0.4f}\".format(norm.cdf(Z))\n",
        "\n",
        "tabla_estandarizada.rename_axis('Z', axis = 'columns', inplace = True)\n",
        "tabla_estandarizada"
      ],
      "metadata": {
        "id": "DRO7MhRpVVku"
      },
      "execution_count": null,
      "outputs": []
    },
    {
      "cell_type": "markdown",
      "source": [
        "<img src='https://github.com/ElProfeAlejo/estadisticas_python/raw/main/img_2_3_2.png' width='250px'>\n",
        "\n",
        "La tabla anterior muestra el área bajo la curva entre $-\\infty$ y $Z$ desviaciones estándar por encima de la media. Recordando que por tratarse de valores estandarizados, tenemos $\\mu = 0$."
      ],
      "metadata": {
        "id": "UER3L3HmXBCT"
      }
    },
    {
      "cell_type": "markdown",
      "source": [
        "## <font color='blue'>Ejemplo: ¿Cual es tu altura?</font>"
      ],
      "metadata": {
        "id": "AEp_lqW6Stb1"
      }
    },
    {
      "cell_type": "markdown",
      "source": [
        "En un estudio sobre las alturas de los habitantes de una ciudad, se encontró que el conjunto de datos sigue una **distribución aproximadamente normal**, con **media 1.70** y **desviación estándar de 0.1**. Con esta información obtenga el siguiente conjunto de probabilidades:\n",
        "\n",
        "> **A.** probabilidad de que una persona seleccionada al azar mida menos de 1.80 metros.\n",
        "\n",
        "> **B.** probabilidad de que una persona seleccionada al azar mida entre 1.60 y 1.80 metros.\n",
        "\n",
        "> **C.** probabilidad de que una persona seleccionada al azar mida más de 1.90 metros."
      ],
      "metadata": {
        "id": "xbbdAYu1S2KL"
      }
    },
    {
      "cell_type": "markdown",
      "source": [
        "### Problema A - Identificar el área bajo la curva"
      ],
      "metadata": {
        "id": "-EkudRa8TykC"
      }
    },
    {
      "cell_type": "markdown",
      "source": [
        "<img style='float: left' src='https://github.com/ElProfeAlejo/estadisticas_python/raw/main/img_2_3_1.png' width='350px'>"
      ],
      "metadata": {
        "id": "Gg0I8FXfT2Is"
      }
    },
    {
      "cell_type": "markdown",
      "source": [
        "### Obtener la variable estandarizada $Z$"
      ],
      "metadata": {
        "id": "imXVJcZVVp1m"
      }
    },
    {
      "cell_type": "code",
      "source": [
        "\n"
      ],
      "metadata": {
        "id": "M2WKEyc7T5Ru"
      },
      "execution_count": null,
      "outputs": []
    },
    {
      "cell_type": "code",
      "source": [
        "\n"
      ],
      "metadata": {
        "id": "j0oiRnfXTNOP"
      },
      "execution_count": null,
      "outputs": []
    },
    {
      "cell_type": "code",
      "source": [
        "\n"
      ],
      "metadata": {
        "id": "hyZdvRYpSxZf"
      },
      "execution_count": null,
      "outputs": []
    },
    {
      "cell_type": "markdown",
      "source": [
        "### Solución 1: Usando Tabla Z"
      ],
      "metadata": {
        "id": "zqYd_HFEXUxC"
      }
    },
    {
      "cell_type": "code",
      "source": [
        "\n"
      ],
      "metadata": {
        "id": "SvdcwZn1WK2B"
      },
      "execution_count": null,
      "outputs": []
    },
    {
      "cell_type": "markdown",
      "source": [
        "### Solución 2 - Usando Scipy"
      ],
      "metadata": {
        "id": "KzM8u6OnXg4h"
      }
    },
    {
      "cell_type": "code",
      "source": [
        "\n"
      ],
      "metadata": {
        "id": "YlrvYrhGXixI"
      },
      "execution_count": null,
      "outputs": []
    },
    {
      "cell_type": "markdown",
      "source": [
        "### Problema B - Identificación del área bajo la curva"
      ],
      "metadata": {
        "id": "1p3Ps6NpZNbY"
      }
    },
    {
      "cell_type": "markdown",
      "source": [
        "<img style='float: left' src='https://github.com/ElProfeAlejo/estadisticas_python/raw/main/img_2_3_3.png' width='350px'>"
      ],
      "metadata": {
        "id": "0pz7gjkGZf92"
      }
    },
    {
      "cell_type": "markdown",
      "source": [
        "### Obtener la variable estandarizada $Z$"
      ],
      "metadata": {
        "id": "DFduOZ5XZoFp"
      }
    },
    {
      "cell_type": "code",
      "source": [
        "\n"
      ],
      "metadata": {
        "id": "ua9o7ehCZjdx"
      },
      "execution_count": null,
      "outputs": []
    },
    {
      "cell_type": "code",
      "source": [
        "\n"
      ],
      "metadata": {
        "id": "jhPHOxU1aWPC"
      },
      "execution_count": null,
      "outputs": []
    },
    {
      "cell_type": "markdown",
      "source": [
        "### Solución 1: Usando Tabla Z"
      ],
      "metadata": {
        "id": "cY4KUYQ2aiXj"
      }
    },
    {
      "cell_type": "code",
      "source": [
        "\n"
      ],
      "metadata": {
        "id": "vUC_o_Tnai8Z"
      },
      "execution_count": null,
      "outputs": []
    },
    {
      "cell_type": "code",
      "source": [
        "\n"
      ],
      "metadata": {
        "id": "x_al7h5LbCD9"
      },
      "execution_count": null,
      "outputs": []
    },
    {
      "cell_type": "markdown",
      "source": [
        "### Solución 2 - Usando Scipy"
      ],
      "metadata": {
        "id": "1X_8O-iZbKOV"
      }
    },
    {
      "cell_type": "code",
      "source": [
        "\n"
      ],
      "metadata": {
        "id": "UlRR6FA0bK64"
      },
      "execution_count": null,
      "outputs": []
    },
    {
      "cell_type": "code",
      "source": [
        "\n"
      ],
      "metadata": {
        "id": "csLLD5lLbQ2B"
      },
      "execution_count": null,
      "outputs": []
    },
    {
      "cell_type": "markdown",
      "source": [
        "### Problema C - Identificación del área bajo la curva"
      ],
      "metadata": {
        "id": "nVxEPaoybb_1"
      }
    },
    {
      "cell_type": "markdown",
      "source": [
        "<img style='float: left' src='https://github.com/ElProfeAlejo/estadisticas_python/raw/main/img_2_3_4.png' width='350px'>"
      ],
      "metadata": {
        "id": "2bG4vGxCbdDj"
      }
    },
    {
      "cell_type": "markdown",
      "source": [
        "### Obtener la variable estandarizada $Z$"
      ],
      "metadata": {
        "id": "aTbLwmDnb6HJ"
      }
    },
    {
      "cell_type": "code",
      "source": [
        "\n"
      ],
      "metadata": {
        "id": "gBDrkb7bb98f"
      },
      "execution_count": null,
      "outputs": []
    },
    {
      "cell_type": "markdown",
      "source": [
        "### Solución 1: Usando Tabla Z"
      ],
      "metadata": {
        "id": "zFnuvsdxb6pz"
      }
    },
    {
      "cell_type": "code",
      "source": [
        "\n"
      ],
      "metadata": {
        "id": "YI6IHnSlb0Le"
      },
      "execution_count": null,
      "outputs": []
    },
    {
      "cell_type": "markdown",
      "source": [
        "### Solución 2 - Usando Scipy"
      ],
      "metadata": {
        "id": "040tlERscUZs"
      }
    },
    {
      "cell_type": "code",
      "source": [],
      "metadata": {
        "id": "-_cRudbhcU7h"
      },
      "execution_count": null,
      "outputs": []
    },
    {
      "cell_type": "code",
      "source": [],
      "metadata": {
        "id": "0auVi42HcXiN"
      },
      "execution_count": null,
      "outputs": []
    },
    {
      "cell_type": "markdown",
      "source": [
        "# <font color=green>3. TECNICAS DE MUESTREO</font>\n",
        "***"
      ],
      "metadata": {
        "id": "2ubY3iqFn_rG"
      }
    },
    {
      "cell_type": "markdown",
      "source": [
        "## <font color=green>3.1 Población y muestra</font>\n",
        "***"
      ],
      "metadata": {
        "id": "OW7TmCPsoDJM"
      }
    },
    {
      "cell_type": "markdown",
      "source": [
        "### Población\n",
        "Conjunto de todos los elementos de interés en un estudio. Varios elementos pueden componer una población, por ejemplo: personas, edades, alturas, automóviles, etc.\n",
        "\n",
        "En cuanto al tamaño, las poblaciones pueden ser limitadas (poblaciones finitas) o ilimitadas (poblaciones infinitas)."
      ],
      "metadata": {
        "id": "B7VAVEmroXMC"
      }
    },
    {
      "cell_type": "markdown",
      "source": [
        "### Muestra\n",
        "Subconjunto representativo de la población."
      ],
      "metadata": {
        "id": "uBpy2NcBoqqY"
      }
    },
    {
      "cell_type": "markdown",
      "source": [
        "Los atributos numéricos de una población, como su media, varianza y desviación estándar, se conocen como **parámetros**. El objetivo principal de la inferencia estadística es precisamente generar estimaciones y probar hipótesis sobre los parámetros de la población utilizando información muestral."
      ],
      "metadata": {
        "id": "XRjlL56Fotq0"
      }
    },
    {
      "cell_type": "markdown",
      "source": [
        "## <font color=green>3.2 ¿Cuándo usar una muestra?</font>\n",
        "***"
      ],
      "metadata": {
        "id": "HPksrtiDpAg0"
      }
    },
    {
      "cell_type": "markdown",
      "source": [
        "### Poblaciones infinitas\n",
        "\n",
        "El estudio nunca llegaría a su fin. No es posible investigar todos los elementos de la población."
      ],
      "metadata": {
        "id": "a1Pz2oKEpBDb"
      }
    },
    {
      "cell_type": "markdown",
      "source": [
        "### Pruebas destructivas\n",
        "\n",
        "Estudios donde los elementos evaluados son totalmente consumidos o destruidos. Ejemplo: pruebas de vida útil, pruebas de seguridad de choque en automóviles."
      ],
      "metadata": {
        "id": "TObAV-xypLWS"
      }
    },
    {
      "cell_type": "markdown",
      "source": [
        "### Resultados rápidos\n",
        "\n",
        "Encuestas que necesitan más agilidad en la divulgación. Ejemplo: encuestas de opinión, encuestas sobre temas de salud pública."
      ],
      "metadata": {
        "id": "BOccZSJUpXjR"
      }
    },
    {
      "cell_type": "markdown",
      "source": [
        "### Precios Elevados\n",
        "\n",
        "Cuando la población es finita pero muy grande, el costo de un censo puede hacer inviable el proceso."
      ],
      "metadata": {
        "id": "I4XsMSxKp02R"
      }
    },
    {
      "cell_type": "markdown",
      "source": [
        "## <font color=green>3.3 Muestreo aleatorio simple</font>\n",
        "***"
      ],
      "metadata": {
        "id": "R-SUWeHWqFGG"
      }
    },
    {
      "cell_type": "markdown",
      "source": [
        "Es una de las principales formas de extraer una muestra de una población. El requisito fundamental de este tipo de enfoque es que cada elemento de la población tenga las mismas posibilidades de ser seleccionado para formar parte de la muestra."
      ],
      "metadata": {
        "id": "xu9PNFkCqGEE"
      }
    },
    {
      "cell_type": "code",
      "source": [],
      "metadata": {
        "id": "KuGq7cLtqQX9"
      },
      "execution_count": null,
      "outputs": []
    },
    {
      "cell_type": "code",
      "source": [],
      "metadata": {
        "id": "2KLqYTD9rB5R"
      },
      "execution_count": null,
      "outputs": []
    },
    {
      "cell_type": "code",
      "source": [],
      "metadata": {
        "id": "HUb3UpZQrEr4"
      },
      "execution_count": null,
      "outputs": []
    },
    {
      "cell_type": "code",
      "source": [],
      "metadata": {
        "id": "MS-oqrklrIJw"
      },
      "execution_count": null,
      "outputs": []
    },
    {
      "cell_type": "code",
      "source": [],
      "metadata": {
        "id": "tXiVKdJerKWn"
      },
      "execution_count": null,
      "outputs": []
    },
    {
      "cell_type": "code",
      "source": [],
      "metadata": {
        "id": "6_Q5bjQvrOp6"
      },
      "execution_count": null,
      "outputs": []
    },
    {
      "cell_type": "code",
      "source": [],
      "metadata": {
        "id": "c2rt6CyfrSxN"
      },
      "execution_count": null,
      "outputs": []
    },
    {
      "cell_type": "markdown",
      "source": [
        "## <font color=green>3.4 Muestreo estratificado</font>\n",
        "***"
      ],
      "metadata": {
        "id": "mxVmU9aRrapD"
      }
    },
    {
      "cell_type": "markdown",
      "source": [
        "Es una mejora del proceso de muestreo aleatorio simple. Este método propone la división de la población en subgrupos de elementos con características similares, es decir, grupos más homogéneos. Con estos subgrupos separados, se aplica la técnica de muestreo aleatorio simple dentro de cada subgrupo individualmente."
      ],
      "metadata": {
        "id": "Rayfu-LTrbxu"
      }
    },
    {
      "cell_type": "markdown",
      "source": [
        "## <font color=green>3.5 Muestreo por conglomerados</font>\n",
        "***"
      ],
      "metadata": {
        "id": "7ETJGzTwrhc_"
      }
    },
    {
      "cell_type": "markdown",
      "source": [
        "También pretende mejorar el criterio de muestreo aleatorio simple. En el muestreo por conglomerados también se crean subgrupos, pero no serán homogéneos como en el muestreo estratificado. En el muestreo por conglomerados, los subgrupos serán heterogéneos, por lo que se aplicará un muestreo aleatorio simple o estratificado.\n",
        "\n",
        "Un ejemplo muy común de la aplicación de este tipo de técnicas es en la división de la población en grupos territoriales, donde los elementos investigados tendrán características muy variadas."
      ],
      "metadata": {
        "id": "0sqNcAtWrrwq"
      }
    },
    {
      "cell_type": "markdown",
      "source": [
        "# <font color=green>4. INTERVALO DE CONFIANZA</font>\n",
        "***"
      ],
      "metadata": {
        "id": "3Ns4GQEQwuk8"
      }
    },
    {
      "cell_type": "markdown",
      "source": [
        "Es una forma de hacer suposiciones generalizadas sobre los parámetros de una población con base en la información de una muestra.\n",
        "\n",
        "- **Parámetros** son atributos numéricos de una población, como la media, la desviación estándar, etc.\n",
        "\n",
        "- **Estimativa** es el valor obtenido para un determinado parámetro a partir de datos de una muestra de la población."
      ],
      "metadata": {
        "id": "j7XiPk5DwyEW"
      }
    },
    {
      "cell_type": "markdown",
      "source": [
        "## <font color=green>4.1 Teorema del límite central</font>\n",
        "***"
      ],
      "metadata": {
        "id": "XY6wxOayx51t"
      }
    },
    {
      "cell_type": "markdown",
      "source": [
        "> El **Teorema del límite central** establece que, a medida que aumenta el tamaño de la muestra, la distribución de las medias muestrales se aproxima a una distribución normal con una media igual a la media de la población y una desviación estándar igual a la desviación estándar de la variable original dividida por la raíz cuadrada del tamaño de la muestra. Este hecho es válido para $n$ mayor o igual a 30."
      ],
      "metadata": {
        "id": "FDVcVmWfx6xE"
      }
    },
    {
      "cell_type": "markdown",
      "source": [
        "# $$\\sigma_\\bar{x} = \\frac{\\sigma}{\\sqrt{n}}$$\n",
        "\n",
        "La desviación estándar de las medias muestrales se conoce como **error estándar de la media**"
      ],
      "metadata": {
        "id": "ZdfK0zGmyBm2"
      }
    },
    {
      "cell_type": "markdown",
      "source": [
        "### Comprendiendo el teorema del límite central"
      ],
      "metadata": {
        "id": "t6yCH3WnyZeM"
      }
    },
    {
      "cell_type": "code",
      "source": [],
      "metadata": {
        "id": "ePuYZIyQnI3e"
      },
      "execution_count": null,
      "outputs": []
    },
    {
      "cell_type": "code",
      "source": [],
      "metadata": {
        "id": "ldOjXdd3nPtu"
      },
      "execution_count": null,
      "outputs": []
    },
    {
      "cell_type": "code",
      "source": [],
      "metadata": {
        "id": "UV_MoL2anUqJ"
      },
      "execution_count": null,
      "outputs": []
    },
    {
      "cell_type": "code",
      "source": [],
      "metadata": {
        "id": "lY3IUdr7nsJA"
      },
      "execution_count": null,
      "outputs": []
    },
    {
      "cell_type": "markdown",
      "source": [
        "> El teorema del límite central establece que **a medida que aumenta el tamaño de la muestra, la distribución de las medias de la muestra se aproxima a una distribución normal** con una media igual a la media de la población y una desviación estándar igual a la desviación estándar de la variable original dividida por la raíz cuadrada del tamaño de la muestra. Este hecho es válido para n mayor o igual a 30."
      ],
      "metadata": {
        "id": "eBkztPQtnyTh"
      }
    },
    {
      "cell_type": "code",
      "source": [],
      "metadata": {
        "id": "v7HqdyBwny13"
      },
      "execution_count": null,
      "outputs": []
    },
    {
      "cell_type": "markdown",
      "source": [
        "> El teorema del límite central establece que, al aumentar el tamaño de la muestra, la distribución de las medias muestrales se aproxima a una distribución normal **con una media igual a la media poblacional** y una desviación estándar igual a la desviación estándar de la variable original dividida por la raíz cuadrada del tamaño de la muestra. Este hecho es válido para n mayor o igual a 30."
      ],
      "metadata": {
        "id": "pdEz0FvZol3f"
      }
    },
    {
      "cell_type": "code",
      "source": [],
      "metadata": {
        "id": "g7Mu8dn2omXP"
      },
      "execution_count": null,
      "outputs": []
    },
    {
      "cell_type": "code",
      "source": [],
      "metadata": {
        "id": "I_PPXmCkou54"
      },
      "execution_count": null,
      "outputs": []
    },
    {
      "cell_type": "markdown",
      "source": [
        "> El teorema del límite central establece que, al aumentar el tamaño de la muestra, la distribución de las medias muestrales se aproxima a una distribución normal con media igual a la media poblacional y **desviación estándar igual a la desviación estándar de la variable original dividida por la raíz cuadrada del tamaño de la muestra**. Este hecho es válido para n mayor o igual a 30.\n",
        "\n",
        "# $$\\sigma_\\bar{x} = \\frac{\\sigma}{\\sqrt{n}}$$"
      ],
      "metadata": {
        "id": "TYRyekM0o6u5"
      }
    },
    {
      "cell_type": "code",
      "source": [],
      "metadata": {
        "id": "UjifjtZ_pGNR"
      },
      "execution_count": null,
      "outputs": []
    },
    {
      "cell_type": "code",
      "source": [],
      "metadata": {
        "id": "K9ZyH_0apblu"
      },
      "execution_count": null,
      "outputs": []
    },
    {
      "cell_type": "code",
      "source": [],
      "metadata": {
        "id": "AIZkf8hipeUb"
      },
      "execution_count": null,
      "outputs": []
    },
    {
      "cell_type": "markdown",
      "source": [
        "## <font color=green>4.2 Niveles de confianza y significación</font>\n",
        "***"
      ],
      "metadata": {
        "id": "W7y5Kq6Npuww"
      }
    },
    {
      "cell_type": "markdown",
      "source": [
        "El **nivel de confianza** ($1 - \\alpha$) representa la probabilidad de que la estimación sea correcta. Además, el **nivel de significación** ($\\alpha$) expresa la probabilidad de error de estimación.\n",
        "\n",
        "El **nivel de confianza** representa el grado de confianza de que el resultado de la estimación se encuentra dentro de un rango determinado. Cuando establecemos un **nivel de confianza** del 95% en una encuesta, por ejemplo, estamos asumiendo que existe un 95% de probabilidad de que los resultados de la encuesta representen bien la realidad, es decir, que sean correctos.\n",
        "\n",
        "El **nivel de confianza** de una estimación se puede obtener del área bajo la curva normal, como se ilustra en la siguiente figura."
      ],
      "metadata": {
        "id": "_EIaqxOJpyQu"
      }
    },
    {
      "cell_type": "markdown",
      "source": [
        "![alt text](https://github.com/ElProfeAlejo/estadisticas_python/raw/main/img_4_2_1.png)"
      ],
      "metadata": {
        "id": "NPxUvqDLswL3"
      }
    },
    {
      "cell_type": "markdown",
      "source": [
        "## <font color=green>4.3 Error inferencial</font>\n",
        "***"
      ],
      "metadata": {
        "id": "O7u1iON5to5U"
      }
    },
    {
      "cell_type": "markdown",
      "source": [
        "El **error inferencial** se define por la **desviación estándar de las medias muestrales** $\\sigma_\\bar{x}$ y por el **nivel de confianza** determinado para el proceso."
      ],
      "metadata": {
        "id": "JLA2JnkjtsN0"
      }
    },
    {
      "cell_type": "markdown",
      "source": [
        "# $$e = z \\frac{\\sigma}{\\sqrt{n}}$$"
      ],
      "metadata": {
        "id": "gkCb6icvt234"
      }
    },
    {
      "cell_type": "markdown",
      "source": [
        "## <font color=green>4.4 Intervalos de confianza</font>\n",
        "***"
      ],
      "metadata": {
        "id": "XBuN9nTct8eK"
      }
    },
    {
      "cell_type": "markdown",
      "source": [
        "### Intervalo de confianza para la media poblacional"
      ],
      "metadata": {
        "id": "33emQt5XuBZk"
      }
    },
    {
      "cell_type": "markdown",
      "source": [
        "#### Con desviación estándar de población conocida\n",
        "\n",
        "## $$\\mu = \\bar{x} \\pm z\\frac{\\sigma}{\\sqrt{n}}$$\n",
        "\n",
        "#### Con desviación estándar de población desconocida\n",
        "\n",
        "## $$\\mu = \\bar{x} \\pm z\\frac{s}{\\sqrt{n}}$$"
      ],
      "metadata": {
        "id": "YbQlystxuEIy"
      }
    },
    {
      "cell_type": "markdown",
      "source": [
        "## <font color='blue'>Ejemplo: </font>"
      ],
      "metadata": {
        "id": "8ekbED_Qvqyk"
      }
    },
    {
      "cell_type": "markdown",
      "source": [
        "Suponga que los pesos de los sacos de arroz en una industria alimentaria se distribuyen aproximadamente como una normal de **desviación estándar poblacional igual a 150 g**. Se seleccionó una **muestra aleatoria de 20 bolsas** de un lote específico, se obtuvo un **peso promedio de 5.050 g**. Construya un intervalo de confianza para la **media poblacional** suponiendo un **nivel de significancia del 5 %**."
      ],
      "metadata": {
        "id": "oqbFfrnDvryG"
      }
    },
    {
      "cell_type": "markdown",
      "source": [
        "### Media muestral"
      ],
      "metadata": {
        "id": "Vti8ODQFvxNx"
      }
    },
    {
      "cell_type": "code",
      "source": [],
      "metadata": {
        "id": "DFkBd845uLrm"
      },
      "execution_count": null,
      "outputs": []
    },
    {
      "cell_type": "markdown",
      "source": [
        "### Nivel de significación ($\\alpha$)"
      ],
      "metadata": {
        "id": "gWPeH856wb39"
      }
    },
    {
      "cell_type": "code",
      "source": [],
      "metadata": {
        "id": "WGMWMOA_weGr"
      },
      "execution_count": null,
      "outputs": []
    },
    {
      "cell_type": "markdown",
      "source": [
        "### Nivel de confianza ($1 - \\alpha$)"
      ],
      "metadata": {
        "id": "kPy3hoNzwnfd"
      }
    },
    {
      "cell_type": "code",
      "source": [],
      "metadata": {
        "id": "OYbNuiUFwp-5"
      },
      "execution_count": null,
      "outputs": []
    },
    {
      "cell_type": "markdown",
      "source": [
        "### Obteniendo $z$"
      ],
      "metadata": {
        "id": "xraN0GLGypMl"
      }
    },
    {
      "cell_type": "code",
      "source": [],
      "metadata": {
        "id": "2X5-XFc5ysXL"
      },
      "execution_count": null,
      "outputs": []
    },
    {
      "cell_type": "markdown",
      "source": [
        "### Obteniendo $z$"
      ],
      "metadata": {
        "id": "yZegtGddyx5T"
      }
    },
    {
      "cell_type": "markdown",
      "source": [
        "![alt text](https://github.com/ElProfeAlejo/estadisticas_python/raw/main/img_4_2_2.png)"
      ],
      "metadata": {
        "id": "rPsdSuW6zXdw"
      }
    },
    {
      "cell_type": "code",
      "source": [],
      "metadata": {
        "id": "WP29tasJyyc_"
      },
      "execution_count": null,
      "outputs": []
    },
    {
      "cell_type": "code",
      "source": [],
      "metadata": {
        "id": "sd3ooBNdzlcz"
      },
      "execution_count": null,
      "outputs": []
    },
    {
      "cell_type": "code",
      "source": [],
      "metadata": {
        "id": "u-wu72fdzm6Q"
      },
      "execution_count": null,
      "outputs": []
    },
    {
      "cell_type": "code",
      "source": [],
      "metadata": {
        "id": "LKJLHLbrzokC"
      },
      "execution_count": null,
      "outputs": []
    },
    {
      "cell_type": "markdown",
      "source": [
        "### Valores de $z$ para los niveles de confianza más utilizados\n",
        "|Nivel de<br> confianza|Valor del área bajo<br>la curva normal| $z$ |\n",
        "|:----------------:|:---------------------------------:|:---:|\n",
        "|90%               |0.95                               |1.645|\n",
        "|95%               |0.975                              |1.96 |\n",
        "|99%               |0.995                              |2.575|"
      ],
      "metadata": {
        "id": "bGnKWEsOyqNL"
      }
    },
    {
      "cell_type": "markdown",
      "source": [
        "### Obteniendo $\\sigma_\\bar{x}$"
      ],
      "metadata": {
        "id": "I0-3FrUo0MO0"
      }
    },
    {
      "cell_type": "code",
      "source": [],
      "metadata": {
        "id": "vWQhB7vw0WSE"
      },
      "execution_count": null,
      "outputs": []
    },
    {
      "cell_type": "code",
      "source": [],
      "metadata": {
        "id": "zXMrPJXg1CR6"
      },
      "execution_count": null,
      "outputs": []
    },
    {
      "cell_type": "code",
      "source": [],
      "metadata": {
        "id": "WUUPQ4Op1D3d"
      },
      "execution_count": null,
      "outputs": []
    },
    {
      "cell_type": "code",
      "source": [],
      "metadata": {
        "id": "AE12Wg671FpO"
      },
      "execution_count": null,
      "outputs": []
    },
    {
      "cell_type": "markdown",
      "source": [
        "### Obteniendo $e$"
      ],
      "metadata": {
        "id": "txnfbtct1K6u"
      }
    },
    {
      "cell_type": "code",
      "source": [],
      "metadata": {
        "id": "ruEs4pD41LyO"
      },
      "execution_count": null,
      "outputs": []
    },
    {
      "cell_type": "markdown",
      "source": [
        "### Solución 1 - Cálculo del intervalo de confianza para la media"
      ],
      "metadata": {
        "id": "h7Ty6zhp1Qw-"
      }
    },
    {
      "cell_type": "code",
      "source": [],
      "metadata": {
        "id": "bqQ7gWXE1Rqf"
      },
      "execution_count": null,
      "outputs": []
    },
    {
      "cell_type": "markdown",
      "source": [
        "### Solución 2 - Cálculo del intervalo de confianza para la media"
      ],
      "metadata": {
        "id": "QPutO60J1a8i"
      }
    },
    {
      "cell_type": "code",
      "source": [],
      "metadata": {
        "id": "EaX7VWyO1bsJ"
      },
      "execution_count": null,
      "outputs": []
    },
    {
      "cell_type": "markdown",
      "source": [
        "# <font color=green>5. TAMAÑO DE UNA MUESTRA</font>\n",
        "***"
      ],
      "metadata": {
        "id": "5MdvFXKU3No3"
      }
    },
    {
      "cell_type": "markdown",
      "source": [
        "## <font color=green>5.1 Variables cuantitativas y población infinita</font>\n",
        "***"
      ],
      "metadata": {
        "id": "s0UE6BfV3SOV"
      }
    },
    {
      "cell_type": "markdown",
      "source": [
        "# $$e = z \\frac{\\sigma}{\\sqrt{n}}$$"
      ],
      "metadata": {
        "id": "mu7XEXK73lYp"
      }
    },
    {
      "cell_type": "markdown",
      "source": [
        "#### Con desviación estándar conocida\n",
        "\n",
        "## $$n = \\left(z\\frac{\\sigma}{e}\\right)^2$$\n",
        "\n",
        "#### Con desviación estándar desconocida\n",
        "\n",
        "## $$n = \\left(z\\frac{s}{e}\\right)^2$$\n",
        "\n",
        "Donde:\n",
        "\n",
        "$z$ = variable normal estandarizada\n",
        "\n",
        "$\\sigma$ = desviación estándar poblacional\n",
        "\n",
        "$s$ = desviación estándar muestral\n",
        "\n",
        "$e$ = error inferencial"
      ],
      "metadata": {
        "id": "DcMbkJ-73ocu"
      }
    },
    {
      "cell_type": "markdown",
      "source": [
        "## <font color='blue'>Ejemplo: Rendimiento promedio</font>"
      ],
      "metadata": {
        "id": "zDCoIHmK4BzY"
      }
    },
    {
      "cell_type": "markdown",
      "source": [
        "Estamos estudiando el ingreso mensual de los jefes de hogar. Nuestro supervisor ha determinado que el **error máximo con relación a la media es $\\$$100,00**. Sabemos que la **desviación estándar poblacional** de este grupo de trabajadores es **$\\$$3323.39**. Para un **nivel de confianza del 95 %**, ¿cuál debería ser el tamaño de la muestra de nuestro estudio?"
      ],
      "metadata": {
        "id": "4pHdeE3O4Csa"
      }
    },
    {
      "cell_type": "code",
      "source": [],
      "metadata": {
        "id": "VB-TLwJV4GcO"
      },
      "execution_count": null,
      "outputs": []
    },
    {
      "cell_type": "code",
      "source": [],
      "metadata": {
        "id": "ZJv2kbu24dsj"
      },
      "execution_count": null,
      "outputs": []
    },
    {
      "cell_type": "code",
      "source": [],
      "metadata": {
        "id": "OUXuORcr4eIH"
      },
      "execution_count": null,
      "outputs": []
    },
    {
      "cell_type": "markdown",
      "source": [
        "### Obteniendo $\\sigma$"
      ],
      "metadata": {
        "id": "BqNkaT7d4idO"
      }
    },
    {
      "cell_type": "code",
      "source": [],
      "metadata": {
        "id": "SYq9DQlT4jUq"
      },
      "execution_count": null,
      "outputs": []
    },
    {
      "cell_type": "markdown",
      "source": [
        "### Obteniendo $e$"
      ],
      "metadata": {
        "id": "mBgpLpjL4mWK"
      }
    },
    {
      "cell_type": "code",
      "source": [],
      "metadata": {
        "id": "pasfXvWQ4pPU"
      },
      "execution_count": null,
      "outputs": []
    },
    {
      "cell_type": "markdown",
      "source": [
        "### Obteniendo $n$"
      ],
      "metadata": {
        "id": "BbwtwvBS4tQ1"
      }
    },
    {
      "cell_type": "code",
      "source": [],
      "metadata": {
        "id": "tFkfwlcp4uIT"
      },
      "execution_count": null,
      "outputs": []
    },
    {
      "cell_type": "markdown",
      "source": [
        "## <font color=green>5.2 Variables cuantitativas y población finita</font>\n",
        "***"
      ],
      "metadata": {
        "id": "VtlbQ4S-42Tv"
      }
    },
    {
      "cell_type": "markdown",
      "source": [
        "#### Con desviación estándar conocida\n",
        "\n",
        "## $$n = \\frac{z^2 \\sigma^2 N}{z^2 \\sigma^2 + e^2(N-1)}$$\n",
        "\n",
        "#### Con desviación estándar desconocida\n",
        "\n",
        "## $$n = \\frac{z^2 s^2 N}{z^2 s^2 + e^2(N-1)}$$\n",
        "\n",
        "Donde:\n",
        "\n",
        "$N$ = tamaño de la población\n",
        "\n",
        "$z$ = variable normal estandarizada\n",
        "\n",
        "$\\sigma$ = desviación estándar poblacional\n",
        "\n",
        "$s$ = desviación estándar muestral\n",
        "\n",
        "$e$ = error inferencial"
      ],
      "metadata": {
        "id": "VwNe4F4i43QM"
      }
    },
    {
      "cell_type": "markdown",
      "source": [
        "## <font color='blue'>Ejemplo: industria de refrescos</font>"
      ],
      "metadata": {
        "id": "EepX6fj75Nn9"
      }
    },
    {
      "cell_type": "markdown",
      "source": [
        "En un lote de **10000 latas** de refresco, se realizó un muestreo aleatorio simple de **100 latas** y se obtuvo la **desviación estándar muestral del contenido de las latas igual a 12 ml**. El fabricante estipula un **error máximo sobre la media poblacional de solo 5 ml**. Para garantizar un **nivel de confianza del 95 %**, ¿qué tamaño de muestra debe seleccionarse para este estudio?"
      ],
      "metadata": {
        "id": "9ZjF6SnH5OJj"
      }
    },
    {
      "cell_type": "markdown",
      "source": [
        "### Obteniendo $N$"
      ],
      "metadata": {
        "id": "mXQcCiiw5X1m"
      }
    },
    {
      "cell_type": "code",
      "source": [],
      "metadata": {
        "id": "pfUZ00YL5b7C"
      },
      "execution_count": null,
      "outputs": []
    },
    {
      "cell_type": "markdown",
      "source": [
        "### Obteniendo $z$"
      ],
      "metadata": {
        "id": "z3bBtUtu5fFu"
      }
    },
    {
      "cell_type": "code",
      "source": [],
      "metadata": {
        "id": "511axc5I5gFC"
      },
      "execution_count": null,
      "outputs": []
    },
    {
      "cell_type": "markdown",
      "source": [
        "### Obteniendo $s$"
      ],
      "metadata": {
        "id": "4RSxntNQ5kZr"
      }
    },
    {
      "cell_type": "code",
      "source": [],
      "metadata": {
        "id": "OKVVfZKM5mlO"
      },
      "execution_count": null,
      "outputs": []
    },
    {
      "cell_type": "markdown",
      "source": [
        "### Obteniendo $e$"
      ],
      "metadata": {
        "id": "7eThh5eK5qQN"
      }
    },
    {
      "cell_type": "code",
      "source": [],
      "metadata": {
        "id": "2FKJoBlh5rLj"
      },
      "execution_count": null,
      "outputs": []
    },
    {
      "cell_type": "markdown",
      "source": [
        "### Obteniendo $n$\n",
        "\n",
        "## $$n = \\frac{z^2 s^2 N}{z^2 s^2 + e^2(N-1)}$$"
      ],
      "metadata": {
        "id": "SOaKyRqe5vnq"
      }
    },
    {
      "cell_type": "code",
      "source": [],
      "metadata": {
        "id": "Ixz9QHrv5xrq"
      },
      "execution_count": null,
      "outputs": []
    },
    {
      "cell_type": "markdown",
      "source": [
        "# <font color=green>6. EJERCICIOS FINALES</font>\n",
        "***"
      ],
      "metadata": {
        "id": "qRWeZZNFXtSU"
      }
    },
    {
      "cell_type": "markdown",
      "source": [
        "Estamos estudiando la **renta mensual de los jefes de hogar con renta hasta $\\$$5000.00**. Nuestro supervisor ha determinado que el **error máximo con relación a la media es $\\$$10**. Sabemos que la **desviación estándar poblacional** de este grupo de trabajadores es **$\\$$1082.79** y que la **media poblacional** es **$\\$$1426.54**. Para un **nivel de confianza del 95%**, ¿cuál debería ser el tamaño de la muestra de nuestro estudio? Y ¿Cuál es el intervalo de confianza para la media considerando el tamaño de muestra obtenido?"
      ],
      "metadata": {
        "id": "Eu0XkCFfXxtq"
      }
    },
    {
      "cell_type": "markdown",
      "source": [
        "### Construyendo el dataset según lo especificado por el problema"
      ],
      "metadata": {
        "id": "nt3aA_P1ZOdp"
      }
    },
    {
      "cell_type": "code",
      "source": [],
      "metadata": {
        "id": "B0qkNr1KYchx"
      },
      "execution_count": null,
      "outputs": []
    },
    {
      "cell_type": "code",
      "source": [],
      "metadata": {
        "id": "NLgcpeVNZZt9"
      },
      "execution_count": null,
      "outputs": []
    },
    {
      "cell_type": "code",
      "source": [],
      "metadata": {
        "id": "pRCXzcdLZdmG"
      },
      "execution_count": null,
      "outputs": []
    },
    {
      "cell_type": "markdown",
      "source": [
        "### Cálculo del tamaño de la muestra"
      ],
      "metadata": {
        "id": "sLlndqxcZ7Hu"
      }
    },
    {
      "cell_type": "code",
      "source": [],
      "metadata": {
        "id": "Cvu8-bbqZ8Qm"
      },
      "execution_count": null,
      "outputs": []
    },
    {
      "cell_type": "markdown",
      "source": [
        "### Cálculo del intervalo de confianza para la media"
      ],
      "metadata": {
        "id": "6Bvu68y2aB2K"
      }
    },
    {
      "cell_type": "code",
      "source": [],
      "metadata": {
        "id": "WzFTLguFaCnE"
      },
      "execution_count": null,
      "outputs": []
    },
    {
      "cell_type": "markdown",
      "source": [
        "### Realizando una prueba gráfica"
      ],
      "metadata": {
        "id": "wBaVLhHIaHPM"
      }
    },
    {
      "cell_type": "code",
      "source": [
        "import matplotlib.pyplot as plt\n",
        "\n",
        "tamaño_simulacion = 1000\n",
        "\n",
        "medias = [renta_5000.sample(n = n).mean() for i in range(1, tamaño_simulacion)]\n",
        "medias = pd.DataFrame(medias)\n",
        "\n",
        "ax = medias.plot(style = '.')\n",
        "ax.figure.set_size_inches(12, 6)\n",
        "ax.hlines(y = media, xmin = 0, xmax = tamaño_simulacion, colors='black', linestyles='dashed')\n",
        "ax.hlines(y = intervalo[0], xmin = 0, xmax = tamaño_simulacion, colors='red', linestyles='dashed')\n",
        "ax.hlines(y = intervalo[1], xmin = 0, xmax = tamaño_simulacion, colors='red', linestyles='dashed')\n",
        "ax"
      ],
      "metadata": {
        "id": "n2YurC-paHv_"
      },
      "execution_count": null,
      "outputs": []
    },
    {
      "cell_type": "markdown",
      "source": [
        "# <font color='green'>Problema A</font>"
      ],
      "metadata": {
        "id": "R5EmErkOeH8C"
      }
    },
    {
      "cell_type": "markdown",
      "source": [
        "Evaluando nuestro dataset, es posible verificar que la **proporción de hombres** como jefes del hogar es de casi el **70%**. Necesitamos **seleccionar aleatoriamente grupos de 10 personas** para buscar diferencias en los ingresos de cada grupo. ¿Cuál es la **probabilidad de seleccionar un grupo que presente la misma proporción de la población**, es decir, seleccionar un grupo que esté **compuesto por 7 hombres y 3 mujeres**?\n",
        "\n",
        "#### <font color='blue'>Como tarea adicional, verifique la proporción real de hombres y mujeres en nuestro dataset.</font>\n",
        "\n",
        "#### <font color='red'>Compruebe qué tipo de distribución de probabilidad se ajusta a este diseño.</font>"
      ],
      "metadata": {
        "id": "rwHowJqteJx8"
      }
    },
    {
      "cell_type": "markdown",
      "source": [
        "### Solución"
      ],
      "metadata": {
        "id": "FJwPA67Teom6"
      }
    },
    {
      "cell_type": "code",
      "source": [],
      "metadata": {
        "id": "sgz1b-bneJIg"
      },
      "execution_count": null,
      "outputs": []
    },
    {
      "cell_type": "markdown",
      "source": [
        "# <font color='green'>Problema B</font>"
      ],
      "metadata": {
        "id": "5qOv4eoTe6cD"
      }
    },
    {
      "cell_type": "markdown",
      "source": [
        "Continuando con la pregunta anterior, **cuántos grupos de 10 personas** tendríamos que seleccionar al azar para obtener **100 grupos compuestos por 7 hombres y 3 mujeres**?\n",
        "\n",
        "#### <font color='red'>Recuerde cómo calcular la media de una distribución binomial</font>"
      ],
      "metadata": {
        "id": "DYlXhCvPe7Gt"
      }
    },
    {
      "cell_type": "markdown",
      "source": [
        "### Solución"
      ],
      "metadata": {
        "id": "zoRfWv-nfE2u"
      }
    },
    {
      "cell_type": "markdown",
      "source": [
        "### Media de la distribución binomial\n",
        "\n",
        "# $$\\mu=nXp$$"
      ],
      "metadata": {
        "id": "BJbWuZBNfMEL"
      }
    },
    {
      "cell_type": "code",
      "source": [],
      "metadata": {
        "id": "8lu5MCtCe-2W"
      },
      "execution_count": null,
      "outputs": []
    },
    {
      "cell_type": "markdown",
      "source": [
        "# <font color='green'>Problema C</font>"
      ],
      "metadata": {
        "id": "uqmRQOTCfYGD"
      }
    },
    {
      "cell_type": "markdown",
      "source": [
        "Un cliente nos encargó realizar un estudio para evaluar los **ingresos de los jefes de hogar**. Para ello, necesitamos realizar una nueva colecta de datos, es decir, una nueva investigación de campo. Después de la reunión con el cliente, fue posible enumerar el siguiente conjunto de informaciones:\n",
        "\n",
        "> A. El resultado de la encuesta debe estar listo en **2 meses**;\n",
        "\n",
        "> B. Solo tendremos **$\\$$150000.00** en recursos para realizar la investigación de campo; y\n",
        "    \n",
        "> C. Sería interesante un **margen de error no superior al 10% con respecto a la media estimada**.\n",
        "\n",
        "En nuestra experiencia con estudios de este tipo, sabemos que el **costo promedio por entrevistado ronda los $\\$$100.00**. Con este conjunto de hechos, evalúe y obtenga el siguiente conjunto de informaciones para transmitir al cliente:\n",
        "\n",
        "\n",
        "> 1. Para obtener una estimación de los parámetros de la población (ingresos de los jefes del hogar), realice un muestreo aleatorio simple en nuestro conjunto de datos. Esta muestra debe contener 200 elementos (use random_state = 101 para asegurarse de que el mismo experimento se puede realizar nuevamente). Obtenga la media y la desviación estándar de esta muestra.\n",
        "    \n",
        "> 2. Para el **margen de error** especificado por el cliente, obtener los **tamaños de muestra** necesarios para garantizar los **90%, 95% y 99% de confianza**.\n",
        "    \n",
        "> 3. Obtenga el **costo de la investigación** para los tres niveles de confianza.\n",
        "    \n",
        "> 4. Para el nivel de confianza más alto (dentro del presupuesto disponible), obtenga un **intervalo de confianza para la media de la población**.\n",
        "    \n",
        "> 5. Asumiendo el **nivel de confianza elegido en el ítem anterior**, ¿qué **margen de error** se puede considerar utilizando todos los recursos puestos a disposición por el cliente?\n",
        "    \n",
        "> 6. Suponiendo un **nivel de confianza del 95%**, **cuánto le costaría al cliente la encuesta** si se considerara un **margen de error de solo el 5%** en relación con la media estimada?"
      ],
      "metadata": {
        "id": "_2NbpF97fYlZ"
      }
    },
    {
      "cell_type": "markdown",
      "source": [
        "# <font color='blue'>Solución para el punto 1</font>"
      ],
      "metadata": {
        "id": "0xcIy8Uogtvd"
      }
    },
    {
      "cell_type": "markdown",
      "source": [
        "### Selección de una muestra aleatoria simple\n",
        "\n",
        "#### <font color='red'>Recuerde usar *random_state = 101*</font>"
      ],
      "metadata": {
        "id": "aZ8V-5lHguUq"
      }
    },
    {
      "cell_type": "code",
      "source": [],
      "metadata": {
        "id": "kygbAy7egxry"
      },
      "execution_count": null,
      "outputs": []
    },
    {
      "cell_type": "code",
      "source": [],
      "metadata": {
        "id": "kAvgq_ZggnL7"
      },
      "execution_count": null,
      "outputs": []
    },
    {
      "cell_type": "code",
      "source": [],
      "metadata": {
        "id": "c833ZvkHg4KX"
      },
      "execution_count": null,
      "outputs": []
    },
    {
      "cell_type": "markdown",
      "source": [
        "### Datos del problema"
      ],
      "metadata": {
        "id": "qIp60d1Qg-07"
      }
    },
    {
      "cell_type": "code",
      "source": [],
      "metadata": {
        "id": "-GMduyRCg_80"
      },
      "execution_count": null,
      "outputs": []
    },
    {
      "cell_type": "markdown",
      "source": [
        "# <font color='blue'>Solución para el punto 2</font>"
      ],
      "metadata": {
        "id": "Z52iXGFChRu0"
      }
    },
    {
      "cell_type": "markdown",
      "source": [
        "### Obtener el margen de error\n",
        "\n",
        "#### <font color='red'>Recuerde que el margen de error debe estar en la misma unidad que la variable en estudio ($)</font>"
      ],
      "metadata": {
        "id": "HBPwI85LhSwd"
      }
    },
    {
      "cell_type": "code",
      "source": [
        "\n",
        "print('El margen de error es aproximadamente de $%0.2f' % (e))"
      ],
      "metadata": {
        "id": "vO_-_inEhpTF"
      },
      "execution_count": null,
      "outputs": []
    },
    {
      "cell_type": "markdown",
      "source": [
        "### Tamaño de la muestra ($1 - \\alpha = 90\\%$)"
      ],
      "metadata": {
        "id": "fJmieHpeh9FB"
      }
    },
    {
      "cell_type": "code",
      "source": [],
      "metadata": {
        "id": "QwDVn__KiB50"
      },
      "execution_count": null,
      "outputs": []
    },
    {
      "cell_type": "code",
      "source": [
        "\n",
        "print('Para un nivel de confianza del 90%% debemos seleccionar una muestra de %s elementos.' % n_confianza_90)"
      ],
      "metadata": {
        "id": "yuLr2thNiEbC"
      },
      "execution_count": null,
      "outputs": []
    },
    {
      "cell_type": "markdown",
      "source": [
        "### Tamaño de la muestra ($1 - \\alpha = 95\\%$)"
      ],
      "metadata": {
        "id": "nOJ2cPW9klno"
      }
    },
    {
      "cell_type": "code",
      "source": [],
      "metadata": {
        "id": "fDsjMDCRkmrs"
      },
      "execution_count": null,
      "outputs": []
    },
    {
      "cell_type": "code",
      "source": [
        "\n",
        "print('Para un nivel de confianza del 95%% debemos seleccionar una muestra de %s elementos.' % n_confianza_95)"
      ],
      "metadata": {
        "id": "P4n6kcGCkqx1"
      },
      "execution_count": null,
      "outputs": []
    },
    {
      "cell_type": "markdown",
      "source": [
        "### Tamaño de la muestra ($1 - \\alpha = 99\\%$)"
      ],
      "metadata": {
        "id": "94ZxG7WvlD0-"
      }
    },
    {
      "cell_type": "code",
      "source": [],
      "metadata": {
        "id": "Ze7hVIHJlEth"
      },
      "execution_count": null,
      "outputs": []
    },
    {
      "cell_type": "code",
      "source": [
        "\n",
        "print('Para un nivel de confianza del 99%% debemos seleccionar una muestra de %s elementos.' % n_confianza_99)"
      ],
      "metadata": {
        "id": "MYW0KppjlK4k"
      },
      "execution_count": null,
      "outputs": []
    },
    {
      "cell_type": "markdown",
      "source": [
        "# <font color='blue'>Solución para el punto 3</font>"
      ],
      "metadata": {
        "id": "DBs7SHkGlY8k"
      }
    },
    {
      "cell_type": "markdown",
      "source": [
        "### Coste de la encuesta para un nivel de confianza del 90%"
      ],
      "metadata": {
        "id": "9gvQgX_ulZ6O"
      }
    },
    {
      "cell_type": "code",
      "source": [
        "\n",
        "print('Para un nivel de confianza del 90%, el costo de la encuesta sería $ {:,.2f}.'.format(costo_confianza_90))"
      ],
      "metadata": {
        "id": "5D0qmumYldj2"
      },
      "execution_count": null,
      "outputs": []
    },
    {
      "cell_type": "markdown",
      "source": [
        "### Coste de la encuesta para un nivel de confianza del 95%"
      ],
      "metadata": {
        "id": "AgTdCwG0l_my"
      }
    },
    {
      "cell_type": "code",
      "source": [
        "\n",
        "print('Para un nivel de confianza del 95%, el costo de la encuesta sería $ {:,.2f}.'.format(costo_confianza_95))"
      ],
      "metadata": {
        "id": "SMuiytRpmHc1"
      },
      "execution_count": null,
      "outputs": []
    },
    {
      "cell_type": "markdown",
      "source": [
        "### Coste de la encuesta para un nivel de confianza del 99%"
      ],
      "metadata": {
        "id": "OInw95_AmOM2"
      }
    },
    {
      "cell_type": "code",
      "source": [
        "\n",
        "print('Para un nivel de confianza del 99%, el costo de la encuesta sería $ {:,.2f}.'.format(costo_confianza_99))"
      ],
      "metadata": {
        "id": "g9AI0vy0mPKF"
      },
      "execution_count": null,
      "outputs": []
    },
    {
      "cell_type": "markdown",
      "source": [
        "# <font color='blue'>Solución para el punto 4</font>"
      ],
      "metadata": {
        "id": "aXWJUVGamZwM"
      }
    },
    {
      "cell_type": "code",
      "source": [],
      "metadata": {
        "id": "l7dcXJ08ma0t"
      },
      "execution_count": null,
      "outputs": []
    },
    {
      "cell_type": "markdown",
      "source": [
        "# <font color='blue'>Solución para el punto 5</font>"
      ],
      "metadata": {
        "id": "pT3hkJIBmrwA"
      }
    },
    {
      "cell_type": "code",
      "source": [],
      "metadata": {
        "id": "PESQB7cBmsr7"
      },
      "execution_count": null,
      "outputs": []
    },
    {
      "cell_type": "code",
      "source": [],
      "metadata": {
        "id": "XfNufdTPm2iq"
      },
      "execution_count": null,
      "outputs": []
    },
    {
      "cell_type": "code",
      "source": [
        "\n",
        "print('El nuevo margen de error es {:.2f}%.'.format(e_porcentual * 100))"
      ],
      "metadata": {
        "id": "AT3RVK_lm8QO"
      },
      "execution_count": null,
      "outputs": []
    },
    {
      "cell_type": "markdown",
      "source": [
        "# <font color='blue'>Solución para el punto 6</font>"
      ],
      "metadata": {
        "id": "JLa81bm8nUZC"
      }
    },
    {
      "cell_type": "code",
      "source": [
        "\n",
        "print('El margen de error es aproximadamente de $%0.2f' % (e))"
      ],
      "metadata": {
        "id": "ZrJANm5bnYur"
      },
      "execution_count": null,
      "outputs": []
    },
    {
      "cell_type": "code",
      "source": [
        "\n",
        "print('Para un nivel de confianza del 95%% debemos seleccionar una muestra de %s elementos.' % n_confianza_95)"
      ],
      "metadata": {
        "id": "_FD6vhDknyrk"
      },
      "execution_count": null,
      "outputs": []
    },
    {
      "cell_type": "code",
      "source": [
        "\n",
        "print('Para un nivel de confianza del 95%, el costo de la encuesta sería de ${:,.2f}.'.format(costo_confianza_95))"
      ],
      "metadata": {
        "id": "y4bqNRvLoAPS"
      },
      "execution_count": null,
      "outputs": []
    }
  ],
  "metadata": {
    "colab": {
      "provenance": [],
      "include_colab_link": true
    },
    "kernelspec": {
      "display_name": "Python 3",
      "language": "python",
      "name": "python3"
    },
    "language_info": {
      "codemirror_mode": {
        "name": "ipython",
        "version": 3
      },
      "file_extension": ".py",
      "mimetype": "text/x-python",
      "name": "python",
      "nbconvert_exporter": "python",
      "pygments_lexer": "ipython3",
      "version": "3.6.5"
    }
  },
  "nbformat": 4,
  "nbformat_minor": 0
}